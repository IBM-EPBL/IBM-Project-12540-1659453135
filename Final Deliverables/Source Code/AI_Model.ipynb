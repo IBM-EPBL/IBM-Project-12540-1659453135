{
  "cells": [
    {
      "cell_type": "code",
      "source": [
        "from google.colab import drive\n",
        "drive.mount('/content/drive')"
      ],
      "metadata": {
        "colab": {
          "base_uri": "https://localhost:8080/"
        },
        "id": "75qrT-r0bcTX",
        "outputId": "c466b469-567f-4063-9816-56e2b1d6d612"
      },
      "execution_count": null,
      "outputs": [
        {
          "output_type": "stream",
          "name": "stdout",
          "text": [
            "Mounted at /content/drive\n"
          ]
        }
      ]
    },
    {
      "cell_type": "code",
      "source": [
        "!unzip /content/drive/MyDrive/dataset.zip"
      ],
      "metadata": {
        "colab": {
          "base_uri": "https://localhost:8080/"
        },
        "id": "_pC72TEXbXiu",
        "outputId": "7e8d1718-4db3-46a2-dbbe-3ca7f73e6bcc"
      },
      "execution_count": null,
      "outputs": [
        {
          "output_type": "stream",
          "name": "stdout",
          "text": [
            "Archive:  /content/drive/MyDrive/dataset.zip\n",
            "  inflating: dataset/readme.txt      \n",
            "   creating: dataset/test_set/\n",
            "   creating: dataset/test_set/Cyclone/\n",
            "  inflating: dataset/test_set/Cyclone/867.jpg  \n",
            "  inflating: dataset/test_set/Cyclone/868.jpg  \n",
            "  inflating: dataset/test_set/Cyclone/869.jpg  \n",
            "  inflating: dataset/test_set/Cyclone/870.jpg  \n",
            "  inflating: dataset/test_set/Cyclone/871.jpg  \n",
            "  inflating: dataset/test_set/Cyclone/872.jpg  \n",
            "  inflating: dataset/test_set/Cyclone/873.jpg  \n",
            "  inflating: dataset/test_set/Cyclone/874.jpg  \n",
            "  inflating: dataset/test_set/Cyclone/875.jpg  \n",
            "  inflating: dataset/test_set/Cyclone/876.jpg  \n",
            "  inflating: dataset/test_set/Cyclone/877.jpg  \n",
            "  inflating: dataset/test_set/Cyclone/878.jpg  \n",
            "  inflating: dataset/test_set/Cyclone/879.jpg  \n",
            "  inflating: dataset/test_set/Cyclone/880.jpg  \n",
            "  inflating: dataset/test_set/Cyclone/881.jpg  \n",
            "  inflating: dataset/test_set/Cyclone/882.jpg  \n",
            "  inflating: dataset/test_set/Cyclone/883.jpg  \n",
            "  inflating: dataset/test_set/Cyclone/884.jpg  \n",
            "  inflating: dataset/test_set/Cyclone/885.jpg  \n",
            "  inflating: dataset/test_set/Cyclone/886.jpg  \n",
            "  inflating: dataset/test_set/Cyclone/887.jpg  \n",
            "  inflating: dataset/test_set/Cyclone/888.jpg  \n",
            "  inflating: dataset/test_set/Cyclone/889.jpg  \n",
            "  inflating: dataset/test_set/Cyclone/890.jpg  \n",
            "  inflating: dataset/test_set/Cyclone/891.jpg  \n",
            "  inflating: dataset/test_set/Cyclone/892.jpg  \n",
            "  inflating: dataset/test_set/Cyclone/893.jpg  \n",
            "  inflating: dataset/test_set/Cyclone/894.jpg  \n",
            "  inflating: dataset/test_set/Cyclone/895.jpg  \n",
            "  inflating: dataset/test_set/Cyclone/896.jpg  \n",
            "  inflating: dataset/test_set/Cyclone/897.jpg  \n",
            "  inflating: dataset/test_set/Cyclone/898.jpg  \n",
            "  inflating: dataset/test_set/Cyclone/899.jpg  \n",
            "  inflating: dataset/test_set/Cyclone/900.jpg  \n",
            "  inflating: dataset/test_set/Cyclone/901.jpg  \n",
            "  inflating: dataset/test_set/Cyclone/902.jpg  \n",
            "  inflating: dataset/test_set/Cyclone/903.jpg  \n",
            "  inflating: dataset/test_set/Cyclone/904.jpg  \n",
            "  inflating: dataset/test_set/Cyclone/905.jpg  \n",
            "  inflating: dataset/test_set/Cyclone/906.jpg  \n",
            "  inflating: dataset/test_set/Cyclone/907.jpg  \n",
            "  inflating: dataset/test_set/Cyclone/908.jpg  \n",
            "  inflating: dataset/test_set/Cyclone/909.jpg  \n",
            "  inflating: dataset/test_set/Cyclone/910.jpg  \n",
            "  inflating: dataset/test_set/Cyclone/911.jpg  \n",
            "  inflating: dataset/test_set/Cyclone/912.jpg  \n",
            "  inflating: dataset/test_set/Cyclone/913.jpg  \n",
            "  inflating: dataset/test_set/Cyclone/914.jpg  \n",
            "  inflating: dataset/test_set/Cyclone/915.jpg  \n",
            "  inflating: dataset/test_set/Cyclone/916.jpg  \n",
            "  inflating: dataset/test_set/Cyclone/917.jpg  \n",
            "  inflating: dataset/test_set/Cyclone/918.jpg  \n",
            "  inflating: dataset/test_set/Cyclone/919.jpg  \n",
            "  inflating: dataset/test_set/Cyclone/920.jpg  \n",
            "  inflating: dataset/test_set/Cyclone/921.jpg  \n",
            "  inflating: dataset/test_set/Cyclone/922.jpg  \n",
            "  inflating: dataset/test_set/Cyclone/923.jpg  \n",
            "  inflating: dataset/test_set/Cyclone/924.jpg  \n",
            "  inflating: dataset/test_set/Cyclone/925.jpg  \n",
            "  inflating: dataset/test_set/Cyclone/926.jpg  \n",
            "  inflating: dataset/test_set/Cyclone/927.jpg  \n",
            "  inflating: dataset/test_set/Cyclone/928.jpg  \n",
            "  inflating: dataset/test_set/Cyclone/929.jpg  \n",
            "  inflating: dataset/test_set/Cyclone/930.jpg  \n",
            "   creating: dataset/test_set/Earthquake/\n",
            "  inflating: dataset/test_set/Earthquake/1321.jpg  \n",
            "  inflating: dataset/test_set/Earthquake/1322.jpg  \n",
            "  inflating: dataset/test_set/Earthquake/1323.jpg  \n",
            "  inflating: dataset/test_set/Earthquake/1324.jpg  \n",
            "  inflating: dataset/test_set/Earthquake/1325.jpg  \n",
            "  inflating: dataset/test_set/Earthquake/1326.jpg  \n",
            "  inflating: dataset/test_set/Earthquake/1327.jpg  \n",
            "  inflating: dataset/test_set/Earthquake/1328.jpg  \n",
            "  inflating: dataset/test_set/Earthquake/1329.jpg  \n",
            "  inflating: dataset/test_set/Earthquake/1330.jpg  \n",
            "  inflating: dataset/test_set/Earthquake/1331.jpg  \n",
            "  inflating: dataset/test_set/Earthquake/1332.jpg  \n",
            "  inflating: dataset/test_set/Earthquake/1333.jpg  \n",
            "  inflating: dataset/test_set/Earthquake/1334.jpg  \n",
            "  inflating: dataset/test_set/Earthquake/1335.jpg  \n",
            "  inflating: dataset/test_set/Earthquake/1336.jpg  \n",
            "  inflating: dataset/test_set/Earthquake/1337.jpg  \n",
            "  inflating: dataset/test_set/Earthquake/1338.jpg  \n",
            "  inflating: dataset/test_set/Earthquake/1339.jpg  \n",
            "  inflating: dataset/test_set/Earthquake/1340.jpg  \n",
            "  inflating: dataset/test_set/Earthquake/1341.jpg  \n",
            "  inflating: dataset/test_set/Earthquake/1342.jpg  \n",
            "  inflating: dataset/test_set/Earthquake/1343.jpg  \n",
            "  inflating: dataset/test_set/Earthquake/1344.jpg  \n",
            "  inflating: dataset/test_set/Earthquake/1345.jpg  \n",
            "  inflating: dataset/test_set/Earthquake/1346.jpg  \n",
            "  inflating: dataset/test_set/Earthquake/1347.jpg  \n",
            "  inflating: dataset/test_set/Earthquake/1348.jpg  \n",
            "  inflating: dataset/test_set/Earthquake/1349.jpg  \n",
            "   creating: dataset/test_set/Flood/\n",
            "  inflating: dataset/test_set/Flood/1000.jpg  \n",
            "  inflating: dataset/test_set/Flood/1001.jpg  \n",
            "  inflating: dataset/test_set/Flood/1002.jpg  \n",
            "  inflating: dataset/test_set/Flood/1003.jpg  \n",
            "  inflating: dataset/test_set/Flood/1004.jpg  \n",
            "  inflating: dataset/test_set/Flood/1005.jpg  \n",
            "  inflating: dataset/test_set/Flood/1006.jpg  \n",
            "  inflating: dataset/test_set/Flood/1007.jpg  \n",
            "  inflating: dataset/test_set/Flood/1008.jpg  \n",
            "  inflating: dataset/test_set/Flood/1009.jpg  \n",
            "  inflating: dataset/test_set/Flood/1010.jpg  \n",
            "  inflating: dataset/test_set/Flood/1011.jpg  \n",
            "  inflating: dataset/test_set/Flood/1012.jpg  \n",
            "  inflating: dataset/test_set/Flood/1013.jpg  \n",
            "  inflating: dataset/test_set/Flood/1014.jpg  \n",
            "  inflating: dataset/test_set/Flood/1015.jpg  \n",
            "  inflating: dataset/test_set/Flood/1016.jpg  \n",
            "  inflating: dataset/test_set/Flood/1017.jpg  \n",
            "  inflating: dataset/test_set/Flood/1018.jpg  \n",
            "  inflating: dataset/test_set/Flood/1019.jpg  \n",
            "  inflating: dataset/test_set/Flood/1020.jpg  \n",
            "  inflating: dataset/test_set/Flood/1021.jpg  \n",
            "  inflating: dataset/test_set/Flood/1022.jpg  \n",
            "  inflating: dataset/test_set/Flood/1023.jpg  \n",
            "  inflating: dataset/test_set/Flood/1024.jpg  \n",
            "  inflating: dataset/test_set/Flood/1025.jpg  \n",
            "  inflating: dataset/test_set/Flood/1026.jpg  \n",
            "  inflating: dataset/test_set/Flood/1027.jpg  \n",
            "  inflating: dataset/test_set/Flood/1028.jpg  \n",
            "  inflating: dataset/test_set/Flood/1029.jpg  \n",
            "  inflating: dataset/test_set/Flood/1030.jpg  \n",
            "  inflating: dataset/test_set/Flood/1031.jpg  \n",
            "  inflating: dataset/test_set/Flood/1032.jpg  \n",
            "  inflating: dataset/test_set/Flood/1033.jpg  \n",
            "  inflating: dataset/test_set/Flood/1034.jpg  \n",
            "  inflating: dataset/test_set/Flood/1035.jpg  \n",
            "  inflating: dataset/test_set/Flood/1036.jpg  \n",
            "  inflating: dataset/test_set/Flood/1037.jpg  \n",
            "  inflating: dataset/test_set/Flood/1038.jpg  \n",
            "  inflating: dataset/test_set/Flood/1039.jpg  \n",
            "  inflating: dataset/test_set/Flood/1040.jpg  \n",
            "  inflating: dataset/test_set/Flood/1041.jpg  \n",
            "  inflating: dataset/test_set/Flood/1042.jpg  \n",
            "  inflating: dataset/test_set/Flood/1043.jpg  \n",
            "  inflating: dataset/test_set/Flood/1044.jpg  \n",
            "  inflating: dataset/test_set/Flood/1045.jpg  \n",
            "  inflating: dataset/test_set/Flood/1046.jpg  \n",
            "  inflating: dataset/test_set/Flood/1047.jpg  \n",
            "  inflating: dataset/test_set/Flood/1048.jpg  \n",
            "  inflating: dataset/test_set/Flood/1049.jpg  \n",
            "  inflating: dataset/test_set/Flood/1050.jpg  \n",
            "  inflating: dataset/test_set/Flood/1051.jpg  \n",
            "  inflating: dataset/test_set/Flood/1062.jpg  \n",
            "  inflating: dataset/test_set/Flood/992.jpg  \n",
            "  inflating: dataset/test_set/Flood/993.jpg  \n",
            "  inflating: dataset/test_set/Flood/994.jpg  \n",
            "  inflating: dataset/test_set/Flood/995.jpg  \n",
            "  inflating: dataset/test_set/Flood/996.jpg  \n",
            "  inflating: dataset/test_set/Flood/997.jpg  \n",
            "  inflating: dataset/test_set/Flood/998.jpg  \n",
            "  inflating: dataset/test_set/Flood/999.jpg  \n",
            "   creating: dataset/test_set/Wildfire/\n",
            "  inflating: dataset/test_set/Wildfire/1035.jpg  \n",
            "  inflating: dataset/test_set/Wildfire/1036.jpg  \n",
            "  inflating: dataset/test_set/Wildfire/1037.jpg  \n",
            "  inflating: dataset/test_set/Wildfire/1038.jpg  \n",
            "  inflating: dataset/test_set/Wildfire/1039.jpg  \n",
            "  inflating: dataset/test_set/Wildfire/1040.jpg  \n",
            "  inflating: dataset/test_set/Wildfire/1041.jpg  \n",
            "  inflating: dataset/test_set/Wildfire/1042.jpg  \n",
            "  inflating: dataset/test_set/Wildfire/1043.jpg  \n",
            "  inflating: dataset/test_set/Wildfire/1044.jpg  \n",
            "  inflating: dataset/test_set/Wildfire/1045.jpg  \n",
            "  inflating: dataset/test_set/Wildfire/1046.jpg  \n",
            "  inflating: dataset/test_set/Wildfire/1047.jpg  \n",
            "  inflating: dataset/test_set/Wildfire/1048.jpg  \n",
            "  inflating: dataset/test_set/Wildfire/1049.jpg  \n",
            "  inflating: dataset/test_set/Wildfire/1050.jpg  \n",
            "  inflating: dataset/test_set/Wildfire/1051.jpg  \n",
            "  inflating: dataset/test_set/Wildfire/1052.jpg  \n",
            "  inflating: dataset/test_set/Wildfire/1053.jpg  \n",
            "  inflating: dataset/test_set/Wildfire/1054.jpg  \n",
            "  inflating: dataset/test_set/Wildfire/1055.jpg  \n",
            "  inflating: dataset/test_set/Wildfire/1056.jpg  \n",
            "  inflating: dataset/test_set/Wildfire/1057.jpg  \n",
            "  inflating: dataset/test_set/Wildfire/1058.jpg  \n",
            "  inflating: dataset/test_set/Wildfire/1059.jpg  \n",
            "  inflating: dataset/test_set/Wildfire/1060.jpg  \n",
            "  inflating: dataset/test_set/Wildfire/1061.jpg  \n",
            "  inflating: dataset/test_set/Wildfire/1062.jpg  \n",
            "  inflating: dataset/test_set/Wildfire/1063.jpg  \n",
            "  inflating: dataset/test_set/Wildfire/1064.jpg  \n",
            "  inflating: dataset/test_set/Wildfire/1065.jpg  \n",
            "  inflating: dataset/test_set/Wildfire/1066.jpg  \n",
            "  inflating: dataset/test_set/Wildfire/1067.jpg  \n",
            "  inflating: dataset/test_set/Wildfire/1068.jpg  \n",
            "  inflating: dataset/test_set/Wildfire/1069.jpg  \n",
            "  inflating: dataset/test_set/Wildfire/1070.jpg  \n",
            "  inflating: dataset/test_set/Wildfire/1071.jpg  \n",
            "  inflating: dataset/test_set/Wildfire/1072.jpg  \n",
            "  inflating: dataset/test_set/Wildfire/1073.jpg  \n",
            "  inflating: dataset/test_set/Wildfire/1074.jpg  \n",
            "  inflating: dataset/test_set/Wildfire/1075.jpg  \n",
            "  inflating: dataset/test_set/Wildfire/1076.jpg  \n",
            "  inflating: dataset/test_set/Wildfire/1077.jpg  \n",
            "  inflating: dataset/test_set/Wildfire/1078.jpg  \n",
            "   creating: dataset/train_set/\n",
            "   creating: dataset/train_set/Cyclone/\n",
            "  inflating: dataset/train_set/Cyclone/0.jpg  \n",
            "  inflating: dataset/train_set/Cyclone/1.jpg  \n",
            "  inflating: dataset/train_set/Cyclone/10.jpg  \n",
            "  inflating: dataset/train_set/Cyclone/100.jpg  \n",
            "  inflating: dataset/train_set/Cyclone/101.jpg  \n",
            "  inflating: dataset/train_set/Cyclone/102.jpg  \n",
            "  inflating: dataset/train_set/Cyclone/103.jpg  \n",
            "  inflating: dataset/train_set/Cyclone/104.jpg  \n",
            "  inflating: dataset/train_set/Cyclone/105.jpg  \n",
            "  inflating: dataset/train_set/Cyclone/106.jpg  \n",
            "  inflating: dataset/train_set/Cyclone/107.jpg  \n",
            "  inflating: dataset/train_set/Cyclone/108.jpg  \n",
            "  inflating: dataset/train_set/Cyclone/109.jpg  \n",
            "  inflating: dataset/train_set/Cyclone/11.jpg  \n",
            "  inflating: dataset/train_set/Cyclone/110.jpg  \n",
            "  inflating: dataset/train_set/Cyclone/111.jpg  \n",
            "  inflating: dataset/train_set/Cyclone/112.jpg  \n",
            "  inflating: dataset/train_set/Cyclone/113.jpg  \n",
            "  inflating: dataset/train_set/Cyclone/114.jpg  \n",
            "  inflating: dataset/train_set/Cyclone/115.jpg  \n",
            "  inflating: dataset/train_set/Cyclone/116.jpg  \n",
            "  inflating: dataset/train_set/Cyclone/117.jpg  \n",
            "  inflating: dataset/train_set/Cyclone/118.jpg  \n",
            "  inflating: dataset/train_set/Cyclone/119.jpg  \n",
            "  inflating: dataset/train_set/Cyclone/12.jpg  \n",
            "  inflating: dataset/train_set/Cyclone/120.jpg  \n",
            "  inflating: dataset/train_set/Cyclone/121.jpg  \n",
            "  inflating: dataset/train_set/Cyclone/122.jpg  \n",
            "  inflating: dataset/train_set/Cyclone/123.jpg  \n",
            "  inflating: dataset/train_set/Cyclone/124.jpg  \n",
            "  inflating: dataset/train_set/Cyclone/125.jpg  \n",
            "  inflating: dataset/train_set/Cyclone/126.jpg  \n",
            "  inflating: dataset/train_set/Cyclone/127.jpg  \n",
            "  inflating: dataset/train_set/Cyclone/128.jpg  \n",
            "  inflating: dataset/train_set/Cyclone/129.jpg  \n",
            "  inflating: dataset/train_set/Cyclone/13.jpg  \n",
            "  inflating: dataset/train_set/Cyclone/130.jpg  \n",
            "  inflating: dataset/train_set/Cyclone/131.jpg  \n",
            "  inflating: dataset/train_set/Cyclone/132.jpg  \n",
            "  inflating: dataset/train_set/Cyclone/133.jpg  \n",
            "  inflating: dataset/train_set/Cyclone/134.jpg  \n",
            "  inflating: dataset/train_set/Cyclone/135.jpg  \n",
            "  inflating: dataset/train_set/Cyclone/136.jpg  \n",
            "  inflating: dataset/train_set/Cyclone/137.jpg  \n",
            "  inflating: dataset/train_set/Cyclone/138.jpg  \n",
            "  inflating: dataset/train_set/Cyclone/139.jpg  \n",
            "  inflating: dataset/train_set/Cyclone/14.jpg  \n",
            "  inflating: dataset/train_set/Cyclone/140.jpg  \n",
            "  inflating: dataset/train_set/Cyclone/141.jpg  \n",
            "  inflating: dataset/train_set/Cyclone/142.jpg  \n",
            "  inflating: dataset/train_set/Cyclone/143.jpg  \n",
            "  inflating: dataset/train_set/Cyclone/144.jpg  \n",
            "  inflating: dataset/train_set/Cyclone/145.jpg  \n",
            "  inflating: dataset/train_set/Cyclone/146.jpg  \n",
            "  inflating: dataset/train_set/Cyclone/147.jpg  \n",
            "  inflating: dataset/train_set/Cyclone/148.jpg  \n",
            "  inflating: dataset/train_set/Cyclone/149.jpg  \n",
            "  inflating: dataset/train_set/Cyclone/15.jpg  \n",
            "  inflating: dataset/train_set/Cyclone/150.jpg  \n",
            "  inflating: dataset/train_set/Cyclone/151.jpg  \n",
            "  inflating: dataset/train_set/Cyclone/152.jpg  \n",
            "  inflating: dataset/train_set/Cyclone/153.jpg  \n",
            "  inflating: dataset/train_set/Cyclone/154.jpg  \n",
            "  inflating: dataset/train_set/Cyclone/155.jpg  \n",
            "  inflating: dataset/train_set/Cyclone/156.jpg  \n",
            "  inflating: dataset/train_set/Cyclone/157.jpg  \n",
            "  inflating: dataset/train_set/Cyclone/158.jpg  \n",
            "  inflating: dataset/train_set/Cyclone/159.jpg  \n",
            "  inflating: dataset/train_set/Cyclone/16.jpg  \n",
            "  inflating: dataset/train_set/Cyclone/160.jpg  \n",
            "  inflating: dataset/train_set/Cyclone/161.jpg  \n",
            "  inflating: dataset/train_set/Cyclone/162.jpg  \n",
            "  inflating: dataset/train_set/Cyclone/163.jpg  \n",
            "  inflating: dataset/train_set/Cyclone/164.jpg  \n",
            "  inflating: dataset/train_set/Cyclone/165.jpg  \n",
            "  inflating: dataset/train_set/Cyclone/166.jpg  \n",
            "  inflating: dataset/train_set/Cyclone/167.jpg  \n",
            "  inflating: dataset/train_set/Cyclone/168.jpg  \n",
            "  inflating: dataset/train_set/Cyclone/169.jpg  \n",
            "  inflating: dataset/train_set/Cyclone/17.jpg  \n",
            "  inflating: dataset/train_set/Cyclone/170.jpg  \n",
            "  inflating: dataset/train_set/Cyclone/18.jpg  \n",
            "  inflating: dataset/train_set/Cyclone/184.jpg  \n",
            "  inflating: dataset/train_set/Cyclone/185.jpg  \n",
            "  inflating: dataset/train_set/Cyclone/186.jpg  \n",
            "  inflating: dataset/train_set/Cyclone/187.jpg  \n",
            "  inflating: dataset/train_set/Cyclone/188.jpg  \n",
            "  inflating: dataset/train_set/Cyclone/189.jpg  \n",
            "  inflating: dataset/train_set/Cyclone/19.jpg  \n",
            "  inflating: dataset/train_set/Cyclone/190.jpg  \n",
            "  inflating: dataset/train_set/Cyclone/191.jpg  \n",
            "  inflating: dataset/train_set/Cyclone/192.jpg  \n",
            "  inflating: dataset/train_set/Cyclone/193.jpg  \n",
            "  inflating: dataset/train_set/Cyclone/194.jpg  \n",
            "  inflating: dataset/train_set/Cyclone/195.jpg  \n",
            "  inflating: dataset/train_set/Cyclone/196.jpg  \n",
            "  inflating: dataset/train_set/Cyclone/197.jpg  \n",
            "  inflating: dataset/train_set/Cyclone/198.jpg  \n",
            "  inflating: dataset/train_set/Cyclone/199.jpg  \n",
            "  inflating: dataset/train_set/Cyclone/2.jpg  \n",
            "  inflating: dataset/train_set/Cyclone/20.jpg  \n",
            "  inflating: dataset/train_set/Cyclone/200.jpg  \n",
            "  inflating: dataset/train_set/Cyclone/201.jpg  \n",
            "  inflating: dataset/train_set/Cyclone/202.jpg  \n",
            "  inflating: dataset/train_set/Cyclone/203.jpg  \n",
            "  inflating: dataset/train_set/Cyclone/204.jpg  \n",
            "  inflating: dataset/train_set/Cyclone/205.jpg  \n",
            "  inflating: dataset/train_set/Cyclone/206.jpg  \n",
            "  inflating: dataset/train_set/Cyclone/207.jpg  \n",
            "  inflating: dataset/train_set/Cyclone/208.jpg  \n",
            "  inflating: dataset/train_set/Cyclone/209.jpg  \n",
            "  inflating: dataset/train_set/Cyclone/21.jpg  \n",
            "  inflating: dataset/train_set/Cyclone/210.jpg  \n",
            "  inflating: dataset/train_set/Cyclone/211.jpg  \n",
            "  inflating: dataset/train_set/Cyclone/212.jpg  \n",
            "  inflating: dataset/train_set/Cyclone/213.jpg  \n",
            "  inflating: dataset/train_set/Cyclone/214.jpg  \n",
            "  inflating: dataset/train_set/Cyclone/215.jpg  \n",
            "  inflating: dataset/train_set/Cyclone/216.jpg  \n",
            "  inflating: dataset/train_set/Cyclone/217.jpg  \n",
            "  inflating: dataset/train_set/Cyclone/218.jpg  \n",
            "  inflating: dataset/train_set/Cyclone/219.jpg  \n",
            "  inflating: dataset/train_set/Cyclone/22.jpg  \n",
            "  inflating: dataset/train_set/Cyclone/220.jpg  \n",
            "  inflating: dataset/train_set/Cyclone/221.jpg  \n",
            "  inflating: dataset/train_set/Cyclone/222.jpg  \n",
            "  inflating: dataset/train_set/Cyclone/223.jpg  \n",
            "  inflating: dataset/train_set/Cyclone/224.jpg  \n",
            "  inflating: dataset/train_set/Cyclone/225.jpg  \n",
            "  inflating: dataset/train_set/Cyclone/226.jpg  \n",
            "  inflating: dataset/train_set/Cyclone/227.jpg  \n",
            "  inflating: dataset/train_set/Cyclone/228.jpg  \n",
            "  inflating: dataset/train_set/Cyclone/229.jpg  \n",
            "  inflating: dataset/train_set/Cyclone/23.jpg  \n",
            "  inflating: dataset/train_set/Cyclone/230.jpg  \n",
            "  inflating: dataset/train_set/Cyclone/231.jpg  \n",
            "  inflating: dataset/train_set/Cyclone/232.jpg  \n",
            "  inflating: dataset/train_set/Cyclone/24.jpg  \n",
            "  inflating: dataset/train_set/Cyclone/25.jpg  \n",
            "  inflating: dataset/train_set/Cyclone/26.jpg  \n",
            "  inflating: dataset/train_set/Cyclone/27.jpg  \n",
            "  inflating: dataset/train_set/Cyclone/28.jpg  \n",
            "  inflating: dataset/train_set/Cyclone/29.jpg  \n",
            "  inflating: dataset/train_set/Cyclone/3.jpg  \n",
            "  inflating: dataset/train_set/Cyclone/30.jpg  \n",
            "  inflating: dataset/train_set/Cyclone/31.jpg  \n",
            "  inflating: dataset/train_set/Cyclone/32.jpg  \n",
            "  inflating: dataset/train_set/Cyclone/33.jpg  \n",
            "  inflating: dataset/train_set/Cyclone/34.jpg  \n",
            "  inflating: dataset/train_set/Cyclone/35.jpg  \n",
            "  inflating: dataset/train_set/Cyclone/36.jpg  \n",
            "  inflating: dataset/train_set/Cyclone/37.jpg  \n",
            "  inflating: dataset/train_set/Cyclone/38.jpg  \n",
            "  inflating: dataset/train_set/Cyclone/39.jpg  \n",
            "  inflating: dataset/train_set/Cyclone/4.jpg  \n",
            "  inflating: dataset/train_set/Cyclone/40.jpg  \n",
            "  inflating: dataset/train_set/Cyclone/41.jpg  \n",
            "  inflating: dataset/train_set/Cyclone/42.jpg  \n",
            "  inflating: dataset/train_set/Cyclone/43.jpg  \n",
            "  inflating: dataset/train_set/Cyclone/44.jpg  \n",
            "  inflating: dataset/train_set/Cyclone/45.jpg  \n",
            "  inflating: dataset/train_set/Cyclone/46.jpg  \n",
            "  inflating: dataset/train_set/Cyclone/47.jpg  \n",
            "  inflating: dataset/train_set/Cyclone/48.jpg  \n",
            "  inflating: dataset/train_set/Cyclone/49.jpg  \n",
            "  inflating: dataset/train_set/Cyclone/5.jpg  \n",
            "  inflating: dataset/train_set/Cyclone/50.jpg  \n",
            "  inflating: dataset/train_set/Cyclone/51.jpg  \n",
            "  inflating: dataset/train_set/Cyclone/52.jpg  \n",
            "  inflating: dataset/train_set/Cyclone/53.jpg  \n",
            "  inflating: dataset/train_set/Cyclone/54.jpg  \n",
            "  inflating: dataset/train_set/Cyclone/55.jpg  \n",
            "  inflating: dataset/train_set/Cyclone/56.jpg  \n",
            "  inflating: dataset/train_set/Cyclone/57.jpg  \n",
            "  inflating: dataset/train_set/Cyclone/58.jpg  \n",
            "  inflating: dataset/train_set/Cyclone/59.jpg  \n",
            "  inflating: dataset/train_set/Cyclone/6.jpg  \n",
            "  inflating: dataset/train_set/Cyclone/60.jpg  \n",
            "  inflating: dataset/train_set/Cyclone/61.jpg  \n",
            "  inflating: dataset/train_set/Cyclone/62.jpg  \n",
            "  inflating: dataset/train_set/Cyclone/63.jpg  \n",
            "  inflating: dataset/train_set/Cyclone/64.jpg  \n",
            "  inflating: dataset/train_set/Cyclone/65.jpg  \n",
            "  inflating: dataset/train_set/Cyclone/66.jpg  \n",
            "  inflating: dataset/train_set/Cyclone/67.jpg  \n",
            "  inflating: dataset/train_set/Cyclone/68.jpg  \n",
            "  inflating: dataset/train_set/Cyclone/69.jpg  \n",
            "  inflating: dataset/train_set/Cyclone/7.jpg  \n",
            "  inflating: dataset/train_set/Cyclone/70.jpg  \n",
            "  inflating: dataset/train_set/Cyclone/71.jpg  \n",
            "  inflating: dataset/train_set/Cyclone/72.jpg  \n",
            "  inflating: dataset/train_set/Cyclone/73.jpg  \n",
            "  inflating: dataset/train_set/Cyclone/74.jpg  \n",
            "  inflating: dataset/train_set/Cyclone/75.jpg  \n",
            "  inflating: dataset/train_set/Cyclone/76.jpg  \n",
            "  inflating: dataset/train_set/Cyclone/77.jpg  \n",
            "  inflating: dataset/train_set/Cyclone/78.jpg  \n",
            "  inflating: dataset/train_set/Cyclone/79.jpg  \n",
            "  inflating: dataset/train_set/Cyclone/8.jpg  \n",
            "  inflating: dataset/train_set/Cyclone/80.jpg  \n",
            "  inflating: dataset/train_set/Cyclone/81.jpg  \n",
            "  inflating: dataset/train_set/Cyclone/82.jpg  \n",
            "  inflating: dataset/train_set/Cyclone/83.jpg  \n",
            "  inflating: dataset/train_set/Cyclone/84.jpg  \n",
            "  inflating: dataset/train_set/Cyclone/85.jpg  \n",
            "  inflating: dataset/train_set/Cyclone/86.jpg  \n",
            "  inflating: dataset/train_set/Cyclone/87.jpg  \n",
            "  inflating: dataset/train_set/Cyclone/88.jpg  \n",
            "  inflating: dataset/train_set/Cyclone/89.jpg  \n",
            "  inflating: dataset/train_set/Cyclone/9.jpg  \n",
            "  inflating: dataset/train_set/Cyclone/90.jpg  \n",
            "  inflating: dataset/train_set/Cyclone/91.jpg  \n",
            "  inflating: dataset/train_set/Cyclone/92.jpg  \n",
            "  inflating: dataset/train_set/Cyclone/93.jpg  \n",
            "  inflating: dataset/train_set/Cyclone/94.jpg  \n",
            "  inflating: dataset/train_set/Cyclone/95.jpg  \n",
            "  inflating: dataset/train_set/Cyclone/96.jpg  \n",
            "  inflating: dataset/train_set/Cyclone/97.jpg  \n",
            "  inflating: dataset/train_set/Cyclone/98.jpg  \n",
            "  inflating: dataset/train_set/Cyclone/99.jpg  \n",
            "   creating: dataset/train_set/Earthquake/\n",
            "  inflating: dataset/train_set/Earthquake/0.jpg  \n",
            "  inflating: dataset/train_set/Earthquake/1.jpg  \n",
            "  inflating: dataset/train_set/Earthquake/10.jpg  \n",
            "  inflating: dataset/train_set/Earthquake/11.jpg  \n",
            "  inflating: dataset/train_set/Earthquake/12.jpg  \n",
            "  inflating: dataset/train_set/Earthquake/13.jpg  \n",
            "  inflating: dataset/train_set/Earthquake/14.jpg  \n",
            "  inflating: dataset/train_set/Earthquake/15.jpg  \n",
            "  inflating: dataset/train_set/Earthquake/16.jpg  \n",
            "  inflating: dataset/train_set/Earthquake/17.jpg  \n",
            "  inflating: dataset/train_set/Earthquake/18.jpg  \n",
            "  inflating: dataset/train_set/Earthquake/19.jpg  \n",
            "  inflating: dataset/train_set/Earthquake/2.jpg  \n",
            "  inflating: dataset/train_set/Earthquake/20.jpg  \n",
            "  inflating: dataset/train_set/Earthquake/21.jpg  \n",
            "  inflating: dataset/train_set/Earthquake/22.jpg  \n",
            "  inflating: dataset/train_set/Earthquake/23.jpg  \n",
            "  inflating: dataset/train_set/Earthquake/231.jpg  \n",
            "  inflating: dataset/train_set/Earthquake/232.jpg  \n",
            "  inflating: dataset/train_set/Earthquake/233.jpg  \n",
            "  inflating: dataset/train_set/Earthquake/234.jpg  \n",
            "  inflating: dataset/train_set/Earthquake/235.jpg  \n",
            "  inflating: dataset/train_set/Earthquake/236.jpg  \n",
            "  inflating: dataset/train_set/Earthquake/237.jpg  \n",
            "  inflating: dataset/train_set/Earthquake/238.jpg  \n",
            "  inflating: dataset/train_set/Earthquake/239.jpg  \n",
            "  inflating: dataset/train_set/Earthquake/24.jpg  \n",
            "  inflating: dataset/train_set/Earthquake/240.jpg  \n",
            "  inflating: dataset/train_set/Earthquake/241.jpg  \n",
            "  inflating: dataset/train_set/Earthquake/242.jpg  \n",
            "  inflating: dataset/train_set/Earthquake/243.jpg  \n",
            "  inflating: dataset/train_set/Earthquake/244.jpg  \n",
            "  inflating: dataset/train_set/Earthquake/245.jpg  \n",
            "  inflating: dataset/train_set/Earthquake/246.jpg  \n",
            "  inflating: dataset/train_set/Earthquake/247.jpg  \n",
            "  inflating: dataset/train_set/Earthquake/248.jpg  \n",
            "  inflating: dataset/train_set/Earthquake/249.jpg  \n",
            "  inflating: dataset/train_set/Earthquake/25.jpg  \n",
            "  inflating: dataset/train_set/Earthquake/250.jpg  \n",
            "  inflating: dataset/train_set/Earthquake/251.jpg  \n",
            "  inflating: dataset/train_set/Earthquake/252.jpg  \n",
            "  inflating: dataset/train_set/Earthquake/253.jpg  \n",
            "  inflating: dataset/train_set/Earthquake/254.jpg  \n",
            "  inflating: dataset/train_set/Earthquake/255.jpg  \n",
            "  inflating: dataset/train_set/Earthquake/256.jpg  \n",
            "  inflating: dataset/train_set/Earthquake/257.jpg  \n",
            "  inflating: dataset/train_set/Earthquake/258.jpg  \n",
            "  inflating: dataset/train_set/Earthquake/259.jpg  \n",
            "  inflating: dataset/train_set/Earthquake/26.jpg  \n",
            "  inflating: dataset/train_set/Earthquake/260.jpg  \n",
            "  inflating: dataset/train_set/Earthquake/261.jpg  \n",
            "  inflating: dataset/train_set/Earthquake/262.jpg  \n",
            "  inflating: dataset/train_set/Earthquake/263.jpg  \n",
            "  inflating: dataset/train_set/Earthquake/264.jpg  \n",
            "  inflating: dataset/train_set/Earthquake/265.jpg  \n",
            "  inflating: dataset/train_set/Earthquake/266.jpg  \n",
            "  inflating: dataset/train_set/Earthquake/267.jpg  \n",
            "  inflating: dataset/train_set/Earthquake/268.jpg  \n",
            "  inflating: dataset/train_set/Earthquake/269.jpg  \n",
            "  inflating: dataset/train_set/Earthquake/27.jpg  \n",
            "  inflating: dataset/train_set/Earthquake/270.jpg  \n",
            "  inflating: dataset/train_set/Earthquake/271.jpg  \n",
            "  inflating: dataset/train_set/Earthquake/272.jpg  \n",
            "  inflating: dataset/train_set/Earthquake/273.jpg  \n",
            "  inflating: dataset/train_set/Earthquake/274.jpg  \n",
            "  inflating: dataset/train_set/Earthquake/275.jpg  \n",
            "  inflating: dataset/train_set/Earthquake/276.jpg  \n",
            "  inflating: dataset/train_set/Earthquake/277.jpg  \n",
            "  inflating: dataset/train_set/Earthquake/278.jpg  \n",
            "  inflating: dataset/train_set/Earthquake/279.jpg  \n",
            "  inflating: dataset/train_set/Earthquake/28.jpg  \n",
            "  inflating: dataset/train_set/Earthquake/280.jpg  \n",
            "  inflating: dataset/train_set/Earthquake/281.jpg  \n",
            "  inflating: dataset/train_set/Earthquake/282.jpg  \n",
            "  inflating: dataset/train_set/Earthquake/283.jpg  \n",
            "  inflating: dataset/train_set/Earthquake/284.jpg  \n",
            "  inflating: dataset/train_set/Earthquake/285.jpg  \n",
            "  inflating: dataset/train_set/Earthquake/286.jpg  \n",
            "  inflating: dataset/train_set/Earthquake/287.jpg  \n",
            "  inflating: dataset/train_set/Earthquake/288.jpg  \n",
            "  inflating: dataset/train_set/Earthquake/289.jpg  \n",
            "  inflating: dataset/train_set/Earthquake/29.jpg  \n",
            "  inflating: dataset/train_set/Earthquake/290.jpg  \n",
            "  inflating: dataset/train_set/Earthquake/291.jpg  \n",
            "  inflating: dataset/train_set/Earthquake/292.jpg  \n",
            "  inflating: dataset/train_set/Earthquake/293.jpg  \n",
            "  inflating: dataset/train_set/Earthquake/294.jpg  \n",
            "  inflating: dataset/train_set/Earthquake/295.jpg  \n",
            "  inflating: dataset/train_set/Earthquake/296.jpg  \n",
            "  inflating: dataset/train_set/Earthquake/297.jpg  \n",
            "  inflating: dataset/train_set/Earthquake/298.jpg  \n",
            "  inflating: dataset/train_set/Earthquake/299.jpg  \n",
            "  inflating: dataset/train_set/Earthquake/3.jpg  \n",
            "  inflating: dataset/train_set/Earthquake/30.jpg  \n",
            "  inflating: dataset/train_set/Earthquake/300.jpg  \n",
            "  inflating: dataset/train_set/Earthquake/301.jpg  \n",
            "  inflating: dataset/train_set/Earthquake/302.jpg  \n",
            "  inflating: dataset/train_set/Earthquake/31.jpg  \n",
            "  inflating: dataset/train_set/Earthquake/32.jpg  \n",
            "  inflating: dataset/train_set/Earthquake/33.jpg  \n",
            "  inflating: dataset/train_set/Earthquake/34.jpg  \n",
            "  inflating: dataset/train_set/Earthquake/35.jpg  \n",
            "  inflating: dataset/train_set/Earthquake/36.jpg  \n",
            "  inflating: dataset/train_set/Earthquake/37.jpg  \n",
            "  inflating: dataset/train_set/Earthquake/38.jpg  \n",
            "  inflating: dataset/train_set/Earthquake/39.jpg  \n",
            "  inflating: dataset/train_set/Earthquake/4.jpg  \n",
            "  inflating: dataset/train_set/Earthquake/40.jpg  \n",
            "  inflating: dataset/train_set/Earthquake/41.jpg  \n",
            "  inflating: dataset/train_set/Earthquake/42.jpg  \n",
            "  inflating: dataset/train_set/Earthquake/43.jpg  \n",
            "  inflating: dataset/train_set/Earthquake/44.jpg  \n",
            "  inflating: dataset/train_set/Earthquake/45.jpg  \n",
            "  inflating: dataset/train_set/Earthquake/46.jpg  \n",
            "  inflating: dataset/train_set/Earthquake/47.jpg  \n",
            "  inflating: dataset/train_set/Earthquake/48.jpg  \n",
            "  inflating: dataset/train_set/Earthquake/49.jpg  \n",
            "  inflating: dataset/train_set/Earthquake/5.jpg  \n",
            "  inflating: dataset/train_set/Earthquake/50.jpg  \n",
            "  inflating: dataset/train_set/Earthquake/51.jpg  \n",
            "  inflating: dataset/train_set/Earthquake/52.jpg  \n",
            "  inflating: dataset/train_set/Earthquake/53.jpg  \n",
            "  inflating: dataset/train_set/Earthquake/54.jpg  \n",
            "  inflating: dataset/train_set/Earthquake/55.jpg  \n",
            "  inflating: dataset/train_set/Earthquake/56.jpg  \n",
            "  inflating: dataset/train_set/Earthquake/57.jpg  \n",
            "  inflating: dataset/train_set/Earthquake/58.jpg  \n",
            "  inflating: dataset/train_set/Earthquake/59.jpg  \n",
            "  inflating: dataset/train_set/Earthquake/6.jpg  \n",
            "  inflating: dataset/train_set/Earthquake/60.jpg  \n",
            "  inflating: dataset/train_set/Earthquake/61.jpg  \n",
            "  inflating: dataset/train_set/Earthquake/62.jpg  \n",
            "  inflating: dataset/train_set/Earthquake/63.jpg  \n",
            "  inflating: dataset/train_set/Earthquake/64.jpg  \n",
            "  inflating: dataset/train_set/Earthquake/65.jpg  \n",
            "  inflating: dataset/train_set/Earthquake/66.jpg  \n",
            "  inflating: dataset/train_set/Earthquake/67.jpg  \n",
            "  inflating: dataset/train_set/Earthquake/68.jpg  \n",
            "  inflating: dataset/train_set/Earthquake/69.jpg  \n",
            "  inflating: dataset/train_set/Earthquake/7.jpg  \n",
            "  inflating: dataset/train_set/Earthquake/70.jpg  \n",
            "  inflating: dataset/train_set/Earthquake/71.jpg  \n",
            "  inflating: dataset/train_set/Earthquake/72.jpg  \n",
            "  inflating: dataset/train_set/Earthquake/73.jpg  \n",
            "  inflating: dataset/train_set/Earthquake/74.jpg  \n",
            "  inflating: dataset/train_set/Earthquake/75.jpg  \n",
            "  inflating: dataset/train_set/Earthquake/76.jpg  \n",
            "  inflating: dataset/train_set/Earthquake/77.jpg  \n",
            "  inflating: dataset/train_set/Earthquake/78.jpg  \n",
            "  inflating: dataset/train_set/Earthquake/79.jpg  \n",
            "  inflating: dataset/train_set/Earthquake/8.jpg  \n",
            "  inflating: dataset/train_set/Earthquake/80.jpg  \n",
            "  inflating: dataset/train_set/Earthquake/81.jpg  \n",
            "  inflating: dataset/train_set/Earthquake/82.jpg  \n",
            "  inflating: dataset/train_set/Earthquake/83.jpg  \n",
            "  inflating: dataset/train_set/Earthquake/9.jpg  \n",
            "   creating: dataset/train_set/Flood/\n",
            "  inflating: dataset/train_set/Flood/0.jpg  \n",
            "  inflating: dataset/train_set/Flood/1.jpg  \n",
            "  inflating: dataset/train_set/Flood/10.jpg  \n",
            "  inflating: dataset/train_set/Flood/100.jpg  \n",
            "  inflating: dataset/train_set/Flood/101.jpg  \n",
            "  inflating: dataset/train_set/Flood/102.jpg  \n",
            "  inflating: dataset/train_set/Flood/103.jpg  \n",
            "  inflating: dataset/train_set/Flood/104.jpg  \n",
            "  inflating: dataset/train_set/Flood/105.jpg  \n",
            "  inflating: dataset/train_set/Flood/106.jpg  \n",
            "  inflating: dataset/train_set/Flood/107.jpg  \n",
            "  inflating: dataset/train_set/Flood/108.jpg  \n",
            "  inflating: dataset/train_set/Flood/109.jpg  \n",
            "  inflating: dataset/train_set/Flood/11.jpg  \n",
            "  inflating: dataset/train_set/Flood/110.jpg  \n",
            "  inflating: dataset/train_set/Flood/111.jpg  \n",
            "  inflating: dataset/train_set/Flood/112.jpg  \n",
            "  inflating: dataset/train_set/Flood/113.jpg  \n",
            "  inflating: dataset/train_set/Flood/114.jpg  \n",
            "  inflating: dataset/train_set/Flood/115.jpg  \n",
            "  inflating: dataset/train_set/Flood/116.jpg  \n",
            "  inflating: dataset/train_set/Flood/117.jpg  \n",
            "  inflating: dataset/train_set/Flood/118.jpg  \n",
            "  inflating: dataset/train_set/Flood/119.jpg  \n",
            "  inflating: dataset/train_set/Flood/12.jpg  \n",
            "  inflating: dataset/train_set/Flood/13.jpg  \n",
            "  inflating: dataset/train_set/Flood/14.jpg  \n",
            "  inflating: dataset/train_set/Flood/15.jpg  \n",
            "  inflating: dataset/train_set/Flood/16.jpg  \n",
            "  inflating: dataset/train_set/Flood/17.jpg  \n",
            "  inflating: dataset/train_set/Flood/18.jpg  \n",
            "  inflating: dataset/train_set/Flood/19.jpg  \n",
            "  inflating: dataset/train_set/Flood/2.jpg  \n",
            "  inflating: dataset/train_set/Flood/20.jpg  \n",
            "  inflating: dataset/train_set/Flood/21.jpg  \n",
            "  inflating: dataset/train_set/Flood/22.jpg  \n",
            "  inflating: dataset/train_set/Flood/222.jpg  \n",
            "  inflating: dataset/train_set/Flood/223.jpg  \n",
            "  inflating: dataset/train_set/Flood/224.jpg  \n",
            "  inflating: dataset/train_set/Flood/225.jpg  \n",
            "  inflating: dataset/train_set/Flood/226.jpg  \n",
            "  inflating: dataset/train_set/Flood/227.jpg  \n",
            "  inflating: dataset/train_set/Flood/228.jpg  \n",
            "  inflating: dataset/train_set/Flood/229.jpg  \n",
            "  inflating: dataset/train_set/Flood/23.jpg  \n",
            "  inflating: dataset/train_set/Flood/230.jpg  \n",
            "  inflating: dataset/train_set/Flood/231.jpg  \n",
            "  inflating: dataset/train_set/Flood/232.jpg  \n",
            "  inflating: dataset/train_set/Flood/233.jpg  \n",
            "  inflating: dataset/train_set/Flood/234.jpg  \n",
            "  inflating: dataset/train_set/Flood/235.jpg  \n",
            "  inflating: dataset/train_set/Flood/236.jpg  \n",
            "  inflating: dataset/train_set/Flood/237.jpg  \n",
            "  inflating: dataset/train_set/Flood/238.jpg  \n",
            "  inflating: dataset/train_set/Flood/239.jpg  \n",
            "  inflating: dataset/train_set/Flood/24.jpg  \n",
            "  inflating: dataset/train_set/Flood/240.jpg  \n",
            "  inflating: dataset/train_set/Flood/241.jpg  \n",
            "  inflating: dataset/train_set/Flood/242.jpg  \n",
            "  inflating: dataset/train_set/Flood/243.jpg  \n",
            "  inflating: dataset/train_set/Flood/244.jpg  \n",
            "  inflating: dataset/train_set/Flood/245.jpg  \n",
            "  inflating: dataset/train_set/Flood/246.jpg  \n",
            "  inflating: dataset/train_set/Flood/247.jpg  \n",
            "  inflating: dataset/train_set/Flood/248.jpg  \n",
            "  inflating: dataset/train_set/Flood/249.jpg  \n",
            "  inflating: dataset/train_set/Flood/25.jpg  \n",
            "  inflating: dataset/train_set/Flood/250.jpg  \n",
            "  inflating: dataset/train_set/Flood/251.jpg  \n",
            "  inflating: dataset/train_set/Flood/252.jpg  \n",
            "  inflating: dataset/train_set/Flood/253.jpg  \n",
            "  inflating: dataset/train_set/Flood/254.jpg  \n",
            "  inflating: dataset/train_set/Flood/255.jpg  \n",
            "  inflating: dataset/train_set/Flood/256.jpg  \n",
            "  inflating: dataset/train_set/Flood/257.jpg  \n",
            "  inflating: dataset/train_set/Flood/258.jpg  \n",
            "  inflating: dataset/train_set/Flood/259.jpg  \n",
            "  inflating: dataset/train_set/Flood/26.jpg  \n",
            "  inflating: dataset/train_set/Flood/260.jpg  \n",
            "  inflating: dataset/train_set/Flood/261.jpg  \n",
            "  inflating: dataset/train_set/Flood/262.jpg  \n",
            "  inflating: dataset/train_set/Flood/263.jpg  \n",
            "  inflating: dataset/train_set/Flood/264.jpg  \n",
            "  inflating: dataset/train_set/Flood/265.jpg  \n",
            "  inflating: dataset/train_set/Flood/266.jpg  \n",
            "  inflating: dataset/train_set/Flood/267.jpg  \n",
            "  inflating: dataset/train_set/Flood/268.jpg  \n",
            "  inflating: dataset/train_set/Flood/269.jpg  \n",
            "  inflating: dataset/train_set/Flood/27.jpg  \n",
            "  inflating: dataset/train_set/Flood/270.jpg  \n",
            "  inflating: dataset/train_set/Flood/271.jpg  \n",
            "  inflating: dataset/train_set/Flood/272.jpg  \n",
            "  inflating: dataset/train_set/Flood/273.jpg  \n",
            "  inflating: dataset/train_set/Flood/274.jpg  \n",
            "  inflating: dataset/train_set/Flood/275.jpg  \n",
            "  inflating: dataset/train_set/Flood/276.jpg  \n",
            "  inflating: dataset/train_set/Flood/277.jpg  \n",
            "  inflating: dataset/train_set/Flood/278.jpg  \n",
            "  inflating: dataset/train_set/Flood/279.jpg  \n",
            "  inflating: dataset/train_set/Flood/28.jpg  \n",
            "  inflating: dataset/train_set/Flood/280.jpg  \n",
            "  inflating: dataset/train_set/Flood/281.jpg  \n",
            "  inflating: dataset/train_set/Flood/282.jpg  \n",
            "  inflating: dataset/train_set/Flood/283.jpg  \n",
            "  inflating: dataset/train_set/Flood/284.jpg  \n",
            "  inflating: dataset/train_set/Flood/285.jpg  \n",
            "  inflating: dataset/train_set/Flood/286.jpg  \n",
            "  inflating: dataset/train_set/Flood/287.jpg  \n",
            "  inflating: dataset/train_set/Flood/288.jpg  \n",
            "  inflating: dataset/train_set/Flood/289.jpg  \n",
            "  inflating: dataset/train_set/Flood/29.jpg  \n",
            "  inflating: dataset/train_set/Flood/290.jpg  \n",
            "  inflating: dataset/train_set/Flood/291.jpg  \n",
            "  inflating: dataset/train_set/Flood/292.jpg  \n",
            "  inflating: dataset/train_set/Flood/293.jpg  \n",
            "  inflating: dataset/train_set/Flood/294.jpg  \n",
            "  inflating: dataset/train_set/Flood/295.jpg  \n",
            "  inflating: dataset/train_set/Flood/296.jpg  \n",
            "  inflating: dataset/train_set/Flood/297.jpg  \n",
            "  inflating: dataset/train_set/Flood/298.jpg  \n",
            "  inflating: dataset/train_set/Flood/299.jpg  \n",
            "  inflating: dataset/train_set/Flood/3.jpg  \n",
            "  inflating: dataset/train_set/Flood/30.jpg  \n",
            "  inflating: dataset/train_set/Flood/31.jpg  \n",
            "  inflating: dataset/train_set/Flood/32.jpg  \n",
            "  inflating: dataset/train_set/Flood/33.jpg  \n",
            "  inflating: dataset/train_set/Flood/34.jpg  \n",
            "  inflating: dataset/train_set/Flood/35.jpg  \n",
            "  inflating: dataset/train_set/Flood/36.jpg  \n",
            "  inflating: dataset/train_set/Flood/37.jpg  \n",
            "  inflating: dataset/train_set/Flood/38.jpg  \n",
            "  inflating: dataset/train_set/Flood/39.jpg  \n",
            "  inflating: dataset/train_set/Flood/4.jpg  \n",
            "  inflating: dataset/train_set/Flood/40.jpg  \n",
            "  inflating: dataset/train_set/Flood/41.jpg  \n",
            "  inflating: dataset/train_set/Flood/42.jpg  \n",
            "  inflating: dataset/train_set/Flood/43.jpg  \n",
            "  inflating: dataset/train_set/Flood/44.jpg  \n",
            "  inflating: dataset/train_set/Flood/45.jpg  \n",
            "  inflating: dataset/train_set/Flood/46.jpg  \n",
            "  inflating: dataset/train_set/Flood/47.jpg  \n",
            "  inflating: dataset/train_set/Flood/48.jpg  \n",
            "  inflating: dataset/train_set/Flood/49.jpg  \n",
            "  inflating: dataset/train_set/Flood/5.jpg  \n",
            "  inflating: dataset/train_set/Flood/50.jpg  \n",
            "  inflating: dataset/train_set/Flood/51.jpg  \n",
            "  inflating: dataset/train_set/Flood/52.jpg  \n",
            "  inflating: dataset/train_set/Flood/53.jpg  \n",
            "  inflating: dataset/train_set/Flood/54.jpg  \n",
            "  inflating: dataset/train_set/Flood/55.jpg  \n",
            "  inflating: dataset/train_set/Flood/56.jpg  \n",
            "  inflating: dataset/train_set/Flood/57.jpg  \n",
            "  inflating: dataset/train_set/Flood/58.jpg  \n",
            "  inflating: dataset/train_set/Flood/59.jpg  \n",
            "  inflating: dataset/train_set/Flood/6.jpg  \n",
            "  inflating: dataset/train_set/Flood/60.jpg  \n",
            "  inflating: dataset/train_set/Flood/61.jpg  \n",
            "  inflating: dataset/train_set/Flood/62.jpg  \n",
            "  inflating: dataset/train_set/Flood/63.jpg  \n",
            "  inflating: dataset/train_set/Flood/64.jpg  \n",
            "  inflating: dataset/train_set/Flood/65.jpg  \n",
            "  inflating: dataset/train_set/Flood/66.jpg  \n",
            "  inflating: dataset/train_set/Flood/67.jpg  \n",
            "  inflating: dataset/train_set/Flood/68.jpg  \n",
            "  inflating: dataset/train_set/Flood/69.jpg  \n",
            "  inflating: dataset/train_set/Flood/7.jpg  \n",
            "  inflating: dataset/train_set/Flood/70.jpg  \n",
            "  inflating: dataset/train_set/Flood/71.jpg  \n",
            "  inflating: dataset/train_set/Flood/72.jpg  \n",
            "  inflating: dataset/train_set/Flood/73.jpg  \n",
            "  inflating: dataset/train_set/Flood/74.jpg  \n",
            "  inflating: dataset/train_set/Flood/75.jpg  \n",
            "  inflating: dataset/train_set/Flood/76.jpg  \n",
            "  inflating: dataset/train_set/Flood/77.jpg  \n",
            "  inflating: dataset/train_set/Flood/78.jpg  \n",
            "  inflating: dataset/train_set/Flood/79.jpg  \n",
            "  inflating: dataset/train_set/Flood/8.jpg  \n",
            "  inflating: dataset/train_set/Flood/80.jpg  \n",
            "  inflating: dataset/train_set/Flood/81.jpg  \n",
            "  inflating: dataset/train_set/Flood/82.jpg  \n",
            "  inflating: dataset/train_set/Flood/83.jpg  \n",
            "  inflating: dataset/train_set/Flood/84.jpg  \n",
            "  inflating: dataset/train_set/Flood/85.jpg  \n",
            "  inflating: dataset/train_set/Flood/86.jpg  \n",
            "  inflating: dataset/train_set/Flood/87.jpg  \n",
            "  inflating: dataset/train_set/Flood/88.jpg  \n",
            "  inflating: dataset/train_set/Flood/89.jpg  \n",
            "  inflating: dataset/train_set/Flood/9.jpg  \n",
            "  inflating: dataset/train_set/Flood/90.jpg  \n",
            "  inflating: dataset/train_set/Flood/91.jpg  \n",
            "  inflating: dataset/train_set/Flood/92.jpg  \n",
            "  inflating: dataset/train_set/Flood/93.jpg  \n",
            "  inflating: dataset/train_set/Flood/94.jpg  \n",
            "  inflating: dataset/train_set/Flood/95.jpg  \n",
            "  inflating: dataset/train_set/Flood/96.jpg  \n",
            "  inflating: dataset/train_set/Flood/97.jpg  \n",
            "  inflating: dataset/train_set/Flood/98.jpg  \n",
            "  inflating: dataset/train_set/Flood/99.jpg  \n",
            "   creating: dataset/train_set/Wildfire/\n",
            "  inflating: dataset/train_set/Wildfire/0.jpg  \n",
            "  inflating: dataset/train_set/Wildfire/1.jpg  \n",
            "  inflating: dataset/train_set/Wildfire/10.jpg  \n",
            "  inflating: dataset/train_set/Wildfire/100.jpg  \n",
            "  inflating: dataset/train_set/Wildfire/101.jpg  \n",
            "  inflating: dataset/train_set/Wildfire/11.jpg  \n",
            "  inflating: dataset/train_set/Wildfire/12.jpg  \n",
            "  inflating: dataset/train_set/Wildfire/13.jpg  \n",
            "  inflating: dataset/train_set/Wildfire/14.jpg  \n",
            "  inflating: dataset/train_set/Wildfire/15.jpg  \n",
            "  inflating: dataset/train_set/Wildfire/16.jpg  \n",
            "  inflating: dataset/train_set/Wildfire/17.jpg  \n",
            "  inflating: dataset/train_set/Wildfire/18.jpg  \n",
            "  inflating: dataset/train_set/Wildfire/19.jpg  \n",
            "  inflating: dataset/train_set/Wildfire/2.jpg  \n",
            "  inflating: dataset/train_set/Wildfire/20.jpg  \n",
            "  inflating: dataset/train_set/Wildfire/21.jpg  \n",
            "  inflating: dataset/train_set/Wildfire/22.jpg  \n",
            "  inflating: dataset/train_set/Wildfire/23.jpg  \n",
            "  inflating: dataset/train_set/Wildfire/24.jpg  \n",
            "  inflating: dataset/train_set/Wildfire/25.jpg  \n",
            "  inflating: dataset/train_set/Wildfire/26.jpg  \n",
            "  inflating: dataset/train_set/Wildfire/27.jpg  \n",
            "  inflating: dataset/train_set/Wildfire/270.jpg  \n",
            "  inflating: dataset/train_set/Wildfire/271.jpg  \n",
            "  inflating: dataset/train_set/Wildfire/272.jpg  \n",
            "  inflating: dataset/train_set/Wildfire/273.jpg  \n",
            "  inflating: dataset/train_set/Wildfire/274.jpg  \n",
            "  inflating: dataset/train_set/Wildfire/275.jpg  \n",
            "  inflating: dataset/train_set/Wildfire/276.jpg  \n",
            "  inflating: dataset/train_set/Wildfire/277.jpg  \n",
            "  inflating: dataset/train_set/Wildfire/278.jpg  \n",
            "  inflating: dataset/train_set/Wildfire/279.jpg  \n",
            "  inflating: dataset/train_set/Wildfire/28.jpg  \n",
            "  inflating: dataset/train_set/Wildfire/280.jpg  \n",
            "  inflating: dataset/train_set/Wildfire/281.jpg  \n",
            "  inflating: dataset/train_set/Wildfire/282.jpg  \n",
            "  inflating: dataset/train_set/Wildfire/283.jpg  \n",
            "  inflating: dataset/train_set/Wildfire/284.jpg  \n",
            "  inflating: dataset/train_set/Wildfire/285.jpg  \n",
            "  inflating: dataset/train_set/Wildfire/286.jpg  \n",
            "  inflating: dataset/train_set/Wildfire/287.jpg  \n",
            "  inflating: dataset/train_set/Wildfire/288.jpg  \n",
            "  inflating: dataset/train_set/Wildfire/289.jpg  \n",
            "  inflating: dataset/train_set/Wildfire/29.jpg  \n",
            "  inflating: dataset/train_set/Wildfire/290.jpg  \n",
            "  inflating: dataset/train_set/Wildfire/291.jpg  \n",
            "  inflating: dataset/train_set/Wildfire/292.jpg  \n",
            "  inflating: dataset/train_set/Wildfire/293.jpg  \n",
            "  inflating: dataset/train_set/Wildfire/294.jpg  \n",
            "  inflating: dataset/train_set/Wildfire/295.jpg  \n",
            "  inflating: dataset/train_set/Wildfire/296.jpg  \n",
            "  inflating: dataset/train_set/Wildfire/297.jpg  \n",
            "  inflating: dataset/train_set/Wildfire/298.jpg  \n",
            "  inflating: dataset/train_set/Wildfire/299.jpg  \n",
            "  inflating: dataset/train_set/Wildfire/3.jpg  \n",
            "  inflating: dataset/train_set/Wildfire/30.jpg  \n",
            "  inflating: dataset/train_set/Wildfire/300.jpg  \n",
            "  inflating: dataset/train_set/Wildfire/301.jpg  \n",
            "  inflating: dataset/train_set/Wildfire/302.jpg  \n",
            "  inflating: dataset/train_set/Wildfire/303.jpg  \n",
            "  inflating: dataset/train_set/Wildfire/304.jpg  \n",
            "  inflating: dataset/train_set/Wildfire/305.jpg  \n",
            "  inflating: dataset/train_set/Wildfire/306.jpg  \n",
            "  inflating: dataset/train_set/Wildfire/307.jpg  \n",
            "  inflating: dataset/train_set/Wildfire/308.jpg  \n",
            "  inflating: dataset/train_set/Wildfire/309.jpg  \n",
            "  inflating: dataset/train_set/Wildfire/31.jpg  \n",
            "  inflating: dataset/train_set/Wildfire/310.jpg  \n",
            "  inflating: dataset/train_set/Wildfire/311.jpg  \n",
            "  inflating: dataset/train_set/Wildfire/312.jpg  \n",
            "  inflating: dataset/train_set/Wildfire/313.jpg  \n",
            "  inflating: dataset/train_set/Wildfire/314.jpg  \n",
            "  inflating: dataset/train_set/Wildfire/315.jpg  \n",
            "  inflating: dataset/train_set/Wildfire/316.jpg  \n",
            "  inflating: dataset/train_set/Wildfire/317.jpg  \n",
            "  inflating: dataset/train_set/Wildfire/318.jpg  \n",
            "  inflating: dataset/train_set/Wildfire/319.jpg  \n",
            "  inflating: dataset/train_set/Wildfire/32.jpg  \n",
            "  inflating: dataset/train_set/Wildfire/320.jpg  \n",
            "  inflating: dataset/train_set/Wildfire/321.jpg  \n",
            "  inflating: dataset/train_set/Wildfire/322.jpg  \n",
            "  inflating: dataset/train_set/Wildfire/323.jpg  \n",
            "  inflating: dataset/train_set/Wildfire/324.jpg  \n",
            "  inflating: dataset/train_set/Wildfire/325.jpg  \n",
            "  inflating: dataset/train_set/Wildfire/326.jpg  \n",
            "  inflating: dataset/train_set/Wildfire/327.jpg  \n",
            "  inflating: dataset/train_set/Wildfire/328.jpg  \n",
            "  inflating: dataset/train_set/Wildfire/329.jpg  \n",
            "  inflating: dataset/train_set/Wildfire/33.jpg  \n",
            "  inflating: dataset/train_set/Wildfire/330.jpg  \n",
            "  inflating: dataset/train_set/Wildfire/331.jpg  \n",
            "  inflating: dataset/train_set/Wildfire/332.jpg  \n",
            "  inflating: dataset/train_set/Wildfire/333.jpg  \n",
            "  inflating: dataset/train_set/Wildfire/334.jpg  \n",
            "  inflating: dataset/train_set/Wildfire/335.jpg  \n",
            "  inflating: dataset/train_set/Wildfire/34.jpg  \n",
            "  inflating: dataset/train_set/Wildfire/35.jpg  \n",
            "  inflating: dataset/train_set/Wildfire/36.jpg  \n",
            "  inflating: dataset/train_set/Wildfire/37.jpg  \n",
            "  inflating: dataset/train_set/Wildfire/38.jpg  \n",
            "  inflating: dataset/train_set/Wildfire/39.jpg  \n",
            "  inflating: dataset/train_set/Wildfire/4.jpg  \n",
            "  inflating: dataset/train_set/Wildfire/40.jpg  \n",
            "  inflating: dataset/train_set/Wildfire/41.jpg  \n",
            "  inflating: dataset/train_set/Wildfire/42.jpg  \n",
            "  inflating: dataset/train_set/Wildfire/43.jpg  \n",
            "  inflating: dataset/train_set/Wildfire/44.jpg  \n",
            "  inflating: dataset/train_set/Wildfire/45.jpg  \n",
            "  inflating: dataset/train_set/Wildfire/46.jpg  \n",
            "  inflating: dataset/train_set/Wildfire/47.jpg  \n",
            "  inflating: dataset/train_set/Wildfire/48.jpg  \n",
            "  inflating: dataset/train_set/Wildfire/49.jpg  \n",
            "  inflating: dataset/train_set/Wildfire/5.jpg  \n",
            "  inflating: dataset/train_set/Wildfire/50.jpg  \n",
            "  inflating: dataset/train_set/Wildfire/51.jpg  \n",
            "  inflating: dataset/train_set/Wildfire/52.jpg  \n",
            "  inflating: dataset/train_set/Wildfire/53.jpg  \n",
            "  inflating: dataset/train_set/Wildfire/54.jpg  \n",
            "  inflating: dataset/train_set/Wildfire/55.jpg  \n",
            "  inflating: dataset/train_set/Wildfire/56.jpg  \n",
            "  inflating: dataset/train_set/Wildfire/57.jpg  \n",
            "  inflating: dataset/train_set/Wildfire/58.jpg  \n",
            "  inflating: dataset/train_set/Wildfire/59.jpg  \n",
            "  inflating: dataset/train_set/Wildfire/6.jpg  \n",
            "  inflating: dataset/train_set/Wildfire/60.jpg  \n",
            "  inflating: dataset/train_set/Wildfire/61.jpg  \n",
            "  inflating: dataset/train_set/Wildfire/62.jpg  \n",
            "  inflating: dataset/train_set/Wildfire/63.jpg  \n",
            "  inflating: dataset/train_set/Wildfire/64.jpg  \n",
            "  inflating: dataset/train_set/Wildfire/65.jpg  \n",
            "  inflating: dataset/train_set/Wildfire/66.jpg  \n",
            "  inflating: dataset/train_set/Wildfire/67.jpg  \n",
            "  inflating: dataset/train_set/Wildfire/68.jpg  \n",
            "  inflating: dataset/train_set/Wildfire/69.jpg  \n",
            "  inflating: dataset/train_set/Wildfire/7.jpg  \n",
            "  inflating: dataset/train_set/Wildfire/70.jpg  \n",
            "  inflating: dataset/train_set/Wildfire/71.jpg  \n",
            "  inflating: dataset/train_set/Wildfire/72.jpg  \n",
            "  inflating: dataset/train_set/Wildfire/73.jpg  \n",
            "  inflating: dataset/train_set/Wildfire/74.jpg  \n",
            "  inflating: dataset/train_set/Wildfire/75.jpg  \n",
            "  inflating: dataset/train_set/Wildfire/76.jpg  \n",
            "  inflating: dataset/train_set/Wildfire/77.jpg  \n",
            "  inflating: dataset/train_set/Wildfire/78.jpg  \n",
            "  inflating: dataset/train_set/Wildfire/79.jpg  \n",
            "  inflating: dataset/train_set/Wildfire/8.jpg  \n",
            "  inflating: dataset/train_set/Wildfire/80.jpg  \n",
            "  inflating: dataset/train_set/Wildfire/81.jpg  \n",
            "  inflating: dataset/train_set/Wildfire/82.jpg  \n",
            "  inflating: dataset/train_set/Wildfire/83.jpg  \n",
            "  inflating: dataset/train_set/Wildfire/84.jpg  \n",
            "  inflating: dataset/train_set/Wildfire/85.jpg  \n",
            "  inflating: dataset/train_set/Wildfire/86.jpg  \n",
            "  inflating: dataset/train_set/Wildfire/87.jpg  \n",
            "  inflating: dataset/train_set/Wildfire/88.jpg  \n",
            "  inflating: dataset/train_set/Wildfire/89.jpg  \n",
            "  inflating: dataset/train_set/Wildfire/9.jpg  \n",
            "  inflating: dataset/train_set/Wildfire/90.jpg  \n",
            "  inflating: dataset/train_set/Wildfire/91.jpg  \n",
            "  inflating: dataset/train_set/Wildfire/92.jpg  \n",
            "  inflating: dataset/train_set/Wildfire/93.jpg  \n",
            "  inflating: dataset/train_set/Wildfire/94.jpg  \n",
            "  inflating: dataset/train_set/Wildfire/95.jpg  \n",
            "  inflating: dataset/train_set/Wildfire/96.jpg  \n",
            "  inflating: dataset/train_set/Wildfire/97.jpg  \n",
            "  inflating: dataset/train_set/Wildfire/98.jpg  \n",
            "  inflating: dataset/train_set/Wildfire/99.jpg  \n"
          ]
        }
      ]
    },
    {
      "metadata": {
        "colab": {
          "base_uri": "https://localhost:8080/"
        },
        "id": "6G_2AgJVbI2G",
        "outputId": "ee2da51e-a85f-4b76-a4a4-5361f3494855"
      },
      "cell_type": "code",
      "source": [
        "cd dataset"
      ],
      "execution_count": null,
      "outputs": [
        {
          "output_type": "stream",
          "name": "stdout",
          "text": [
            "/content/dataset\n"
          ]
        }
      ]
    },
    {
      "metadata": {
        "colab": {
          "base_uri": "https://localhost:8080/",
          "height": 36
        },
        "id": "C4vbWJ3PbI2J",
        "outputId": "c5626f9e-a28b-4465-a55d-522163cd61ec"
      },
      "cell_type": "code",
      "source": [
        "pwd"
      ],
      "execution_count": null,
      "outputs": [
        {
          "output_type": "execute_result",
          "data": {
            "text/plain": [
              "'/content/dataset'"
            ],
            "application/vnd.google.colaboratory.intrinsic+json": {
              "type": "string"
            }
          },
          "metadata": {},
          "execution_count": 4
        }
      ]
    },
    {
      "metadata": {
        "id": "9yISY5pmUABQ"
      },
      "cell_type": "code",
      "source": [
        "from keras.preprocessing.image import ImageDataGenerator"
      ],
      "execution_count": null,
      "outputs": []
    },
    {
      "metadata": {
        "id": "gNoTaL6aUBXH"
      },
      "cell_type": "code",
      "source": [
        "train_datagen = ImageDataGenerator(rescale=1./255,shear_range=0.2,zoom_range=0.2,horizontal_flip=True)\n",
        "\n",
        "test_datagen = ImageDataGenerator(rescale=1./255)"
      ],
      "execution_count": null,
      "outputs": []
    },
    {
      "metadata": {
        "colab": {
          "base_uri": "https://localhost:8080/"
        },
        "id": "g9NnIlAAUESh",
        "outputId": "69efcd55-9cc3-4887-c981-a5e6383e87f2"
      },
      "cell_type": "code",
      "source": [
        "x_train = train_datagen.flow_from_directory('/content/dataset/train_set',target_size=(64,64),batch_size=5,color_mode='rgb',class_mode='categorical')\n",
        "\n",
        "x_test = test_datagen.flow_from_directory('/content/dataset/test_set',target_size=(64,64),batch_size=5,color_mode='rgb',class_mode='categorical')"
      ],
      "execution_count": null,
      "outputs": [
        {
          "output_type": "stream",
          "name": "stdout",
          "text": [
            "Found 742 images belonging to 4 classes.\n",
            "Found 198 images belonging to 4 classes.\n"
          ]
        }
      ]
    },
    {
      "metadata": {
        "colab": {
          "base_uri": "https://localhost:8080/"
        },
        "id": "GaCUVQcjbI2M",
        "outputId": "33d947b9-02ca-4546-f9e8-ce3dd17786d0"
      },
      "cell_type": "code",
      "source": [
        "x_train.class_indices"
      ],
      "execution_count": null,
      "outputs": [
        {
          "output_type": "execute_result",
          "data": {
            "text/plain": [
              "{'Cyclone': 0, 'Earthquake': 1, 'Flood': 2, 'Wildfire': 3}"
            ]
          },
          "metadata": {},
          "execution_count": 8
        }
      ]
    },
    {
      "metadata": {
        "id": "D09xGhIAbI2N"
      },
      "cell_type": "code",
      "source": [
        "import numpy as np\n",
        "import tensorflow as tf\n",
        "from tensorflow.keras.models import Sequential\n",
        "from tensorflow.keras import layers\n",
        "from tensorflow.keras.layers import Dense,Flatten\n",
        "from tensorflow.keras.layers import Conv2D,MaxPooling2D"
      ],
      "execution_count": null,
      "outputs": []
    },
    {
      "metadata": {
        "id": "7J5lI_cyWryH"
      },
      "cell_type": "code",
      "source": [
        "model = Sequential()"
      ],
      "execution_count": null,
      "outputs": []
    },
    {
      "metadata": {
        "id": "YWwECRSr0aft"
      },
      "cell_type": "code",
      "source": [
        "model.add(Conv2D(32, (3,3), input_shape=(64,64,3), activation = 'relu'))\n",
        "model.add(MaxPooling2D(pool_size=(2,2)))\n",
        "model.add(Conv2D(32, (3,3), activation = 'relu'))\n",
        "model.add(MaxPooling2D(pool_size=(2,2)))\n",
        "model.add(Flatten())"
      ],
      "execution_count": null,
      "outputs": []
    },
    {
      "metadata": {
        "id": "zcuxXqQ84nf-"
      },
      "cell_type": "code",
      "source": [
        "model.add(Dense(units=128, activation='relu'))\n",
        "model.add(Dense(units=4, activation='softmax'))"
      ],
      "execution_count": null,
      "outputs": []
    },
    {
      "metadata": {
        "colab": {
          "base_uri": "https://localhost:8080/"
        },
        "id": "_XbW_dMf5AMB",
        "outputId": "a11b361d-bd04-484f-f480-ab26633d4d40"
      },
      "cell_type": "code",
      "source": [
        "model.summary()"
      ],
      "execution_count": null,
      "outputs": [
        {
          "output_type": "stream",
          "name": "stdout",
          "text": [
            "Model: \"sequential\"\n",
            "_________________________________________________________________\n",
            " Layer (type)                Output Shape              Param #   \n",
            "=================================================================\n",
            " conv2d (Conv2D)             (None, 62, 62, 32)        896       \n",
            "                                                                 \n",
            " max_pooling2d (MaxPooling2D  (None, 31, 31, 32)       0         \n",
            " )                                                               \n",
            "                                                                 \n",
            " conv2d_1 (Conv2D)           (None, 29, 29, 32)        9248      \n",
            "                                                                 \n",
            " max_pooling2d_1 (MaxPooling  (None, 14, 14, 32)       0         \n",
            " 2D)                                                             \n",
            "                                                                 \n",
            " flatten (Flatten)           (None, 6272)              0         \n",
            "                                                                 \n",
            " dense (Dense)               (None, 128)               802944    \n",
            "                                                                 \n",
            " dense_1 (Dense)             (None, 4)                 516       \n",
            "                                                                 \n",
            "=================================================================\n",
            "Total params: 813,604\n",
            "Trainable params: 813,604\n",
            "Non-trainable params: 0\n",
            "_________________________________________________________________\n"
          ]
        }
      ]
    },
    {
      "metadata": {
        "id": "i8vI1dVi5GyZ"
      },
      "cell_type": "code",
      "source": [
        "model.compile(optimizer='adam', loss='categorical_crossentropy', metrics=['accuracy'])"
      ],
      "execution_count": null,
      "outputs": []
    },
    {
      "metadata": {
        "colab": {
          "base_uri": "https://localhost:8080/"
        },
        "id": "C4HbEbai5hxB",
        "outputId": "2c02121a-8eea-4f5a-9bd1-1245e415e289"
      },
      "cell_type": "code",
      "source": [
        "model.fit_generator(generator=x_train, steps_per_epoch=len(x_train), epochs=20, validation_data=x_test, validation_steps=len(x_test))"
      ],
      "execution_count": null,
      "outputs": [
        {
          "output_type": "stream",
          "name": "stderr",
          "text": [
            "/usr/local/lib/python3.7/dist-packages/ipykernel_launcher.py:1: UserWarning: `Model.fit_generator` is deprecated and will be removed in a future version. Please use `Model.fit`, which supports generators.\n",
            "  \"\"\"Entry point for launching an IPython kernel.\n"
          ]
        },
        {
          "output_type": "stream",
          "name": "stdout",
          "text": [
            "Epoch 1/20\n",
            "149/149 [==============================] - 40s 263ms/step - loss: 1.1272 - accuracy: 0.5027 - val_loss: 1.1146 - val_accuracy: 0.4848\n",
            "Epoch 2/20\n",
            "149/149 [==============================] - 41s 274ms/step - loss: 0.8575 - accuracy: 0.6509 - val_loss: 0.7784 - val_accuracy: 0.7222\n",
            "Epoch 3/20\n",
            "149/149 [==============================] - 38s 257ms/step - loss: 0.6972 - accuracy: 0.7278 - val_loss: 0.9254 - val_accuracy: 0.6616\n",
            "Epoch 4/20\n",
            "149/149 [==============================] - 45s 299ms/step - loss: 0.6582 - accuracy: 0.7480 - val_loss: 0.8576 - val_accuracy: 0.7374\n",
            "Epoch 5/20\n",
            "149/149 [==============================] - 39s 262ms/step - loss: 0.5524 - accuracy: 0.7978 - val_loss: 0.7453 - val_accuracy: 0.7323\n",
            "Epoch 6/20\n",
            "149/149 [==============================] - 42s 282ms/step - loss: 0.5389 - accuracy: 0.7938 - val_loss: 0.8499 - val_accuracy: 0.7020\n",
            "Epoch 7/20\n",
            "149/149 [==============================] - 44s 297ms/step - loss: 0.5142 - accuracy: 0.8086 - val_loss: 0.7327 - val_accuracy: 0.7626\n",
            "Epoch 8/20\n",
            "149/149 [==============================] - 41s 272ms/step - loss: 0.4723 - accuracy: 0.8167 - val_loss: 0.6720 - val_accuracy: 0.7374\n",
            "Epoch 9/20\n",
            "149/149 [==============================] - 43s 291ms/step - loss: 0.3710 - accuracy: 0.8801 - val_loss: 0.9178 - val_accuracy: 0.7222\n",
            "Epoch 10/20\n",
            "149/149 [==============================] - 40s 269ms/step - loss: 0.3715 - accuracy: 0.8733 - val_loss: 0.7912 - val_accuracy: 0.7576\n",
            "Epoch 11/20\n",
            "149/149 [==============================] - 42s 279ms/step - loss: 0.3809 - accuracy: 0.8571 - val_loss: 0.8122 - val_accuracy: 0.7576\n",
            "Epoch 12/20\n",
            "149/149 [==============================] - 41s 276ms/step - loss: 0.3116 - accuracy: 0.8895 - val_loss: 0.8763 - val_accuracy: 0.7475\n",
            "Epoch 13/20\n",
            "149/149 [==============================] - 40s 266ms/step - loss: 0.2615 - accuracy: 0.9084 - val_loss: 0.7842 - val_accuracy: 0.7828\n",
            "Epoch 14/20\n",
            "149/149 [==============================] - 38s 252ms/step - loss: 0.2714 - accuracy: 0.9043 - val_loss: 0.7168 - val_accuracy: 0.8131\n",
            "Epoch 15/20\n",
            "149/149 [==============================] - 40s 270ms/step - loss: 0.2275 - accuracy: 0.9137 - val_loss: 1.0426 - val_accuracy: 0.7576\n",
            "Epoch 16/20\n",
            "149/149 [==============================] - 44s 294ms/step - loss: 0.2640 - accuracy: 0.8935 - val_loss: 1.2014 - val_accuracy: 0.7020\n",
            "Epoch 17/20\n",
            "149/149 [==============================] - 39s 260ms/step - loss: 0.2458 - accuracy: 0.9111 - val_loss: 1.1740 - val_accuracy: 0.7172\n",
            "Epoch 18/20\n",
            "149/149 [==============================] - 40s 272ms/step - loss: 0.1965 - accuracy: 0.9218 - val_loss: 1.2980 - val_accuracy: 0.6869\n",
            "Epoch 19/20\n",
            "149/149 [==============================] - 40s 272ms/step - loss: 0.1580 - accuracy: 0.9407 - val_loss: 0.9277 - val_accuracy: 0.7929\n",
            "Epoch 20/20\n",
            "149/149 [==============================] - 39s 255ms/step - loss: 0.1967 - accuracy: 0.9340 - val_loss: 0.8721 - val_accuracy: 0.7525\n"
          ]
        },
        {
          "output_type": "execute_result",
          "data": {
            "text/plain": [
              "<keras.callbacks.History at 0x7f5cef9f3c10>"
            ]
          },
          "metadata": {},
          "execution_count": 15
        }
      ]
    },
    {
      "metadata": {
        "id": "VZqTaXSCCN3y"
      },
      "cell_type": "code",
      "source": [
        "model.save('ND.h5')\n",
        "model_json = model.to_json()\n",
        "with open(\"model-bw.json\", \"w\") as json_file:\n",
        "  json_file.write(model_json)"
      ],
      "execution_count": null,
      "outputs": []
    },
    {
      "metadata": {
        "id": "CYVAOEXiCy3s"
      },
      "cell_type": "code",
      "source": [
        "from tensorflow.keras.models import load_model\n",
        "from keras.preprocessing import image\n",
        "model = load_model(\"ND.h5\")"
      ],
      "execution_count": null,
      "outputs": []
    },
    {
      "metadata": {
        "colab": {
          "base_uri": "https://localhost:8080/"
        },
        "id": "WWNn7oqRbI2R",
        "outputId": "8c9532fe-7143-42ff-aafb-7b0141826641"
      },
      "cell_type": "code",
      "source": [
        "!tar -zcvf image-classification-model.tar.gz ND.h5"
      ],
      "execution_count": null,
      "outputs": [
        {
          "output_type": "stream",
          "name": "stdout",
          "text": [
            "ND.h5\n"
          ]
        }
      ]
    },
    {
      "metadata": {
        "colab": {
          "base_uri": "https://localhost:8080/",
          "height": 1000
        },
        "id": "DUsSnjIhbI2R",
        "outputId": "21280441-fe78-4acc-bda1-033bf7ece59e"
      },
      "cell_type": "code",
      "source": [
        "!pip install watson-machine-learning-client --upgrade"
      ],
      "execution_count": null,
      "outputs": [
        {
          "output_type": "stream",
          "name": "stdout",
          "text": [
            "Looking in indexes: https://pypi.org/simple, https://us-python.pkg.dev/colab-wheels/public/simple/\n",
            "Collecting watson-machine-learning-client\n",
            "  Downloading watson_machine_learning_client-1.0.391-py3-none-any.whl (538 kB)\n",
            "\u001b[K     |████████████████████████████████| 538 kB 4.3 MB/s \n",
            "\u001b[?25hRequirement already satisfied: requests in /usr/local/lib/python3.7/dist-packages (from watson-machine-learning-client) (2.23.0)\n",
            "Collecting ibm-cos-sdk\n",
            "  Downloading ibm-cos-sdk-2.12.0.tar.gz (55 kB)\n",
            "\u001b[K     |████████████████████████████████| 55 kB 3.5 MB/s \n",
            "\u001b[?25hRequirement already satisfied: certifi in /usr/local/lib/python3.7/dist-packages (from watson-machine-learning-client) (2022.9.24)\n",
            "Collecting boto3\n",
            "  Downloading boto3-1.26.8-py3-none-any.whl (132 kB)\n",
            "\u001b[K     |████████████████████████████████| 132 kB 56.0 MB/s \n",
            "\u001b[?25hRequirement already satisfied: tabulate in /usr/local/lib/python3.7/dist-packages (from watson-machine-learning-client) (0.8.10)\n",
            "Collecting lomond\n",
            "  Downloading lomond-0.3.3-py2.py3-none-any.whl (35 kB)\n",
            "Requirement already satisfied: pandas in /usr/local/lib/python3.7/dist-packages (from watson-machine-learning-client) (1.3.5)\n",
            "Requirement already satisfied: tqdm in /usr/local/lib/python3.7/dist-packages (from watson-machine-learning-client) (4.64.1)\n",
            "Requirement already satisfied: urllib3 in /usr/local/lib/python3.7/dist-packages (from watson-machine-learning-client) (1.24.3)\n",
            "Collecting s3transfer<0.7.0,>=0.6.0\n",
            "  Downloading s3transfer-0.6.0-py3-none-any.whl (79 kB)\n",
            "\u001b[K     |████████████████████████████████| 79 kB 7.3 MB/s \n",
            "\u001b[?25hCollecting jmespath<2.0.0,>=0.7.1\n",
            "  Downloading jmespath-1.0.1-py3-none-any.whl (20 kB)\n",
            "Collecting botocore<1.30.0,>=1.29.8\n",
            "  Downloading botocore-1.29.8-py3-none-any.whl (9.9 MB)\n",
            "\u001b[K     |████████████████████████████████| 9.9 MB 58.1 MB/s \n",
            "\u001b[?25hRequirement already satisfied: python-dateutil<3.0.0,>=2.1 in /usr/local/lib/python3.7/dist-packages (from botocore<1.30.0,>=1.29.8->boto3->watson-machine-learning-client) (2.8.2)\n",
            "Collecting urllib3\n",
            "  Downloading urllib3-1.26.12-py2.py3-none-any.whl (140 kB)\n",
            "\u001b[K     |████████████████████████████████| 140 kB 69.5 MB/s \n",
            "\u001b[?25hRequirement already satisfied: six>=1.5 in /usr/local/lib/python3.7/dist-packages (from python-dateutil<3.0.0,>=2.1->botocore<1.30.0,>=1.29.8->boto3->watson-machine-learning-client) (1.15.0)\n",
            "Collecting ibm-cos-sdk-core==2.12.0\n",
            "  Downloading ibm-cos-sdk-core-2.12.0.tar.gz (956 kB)\n",
            "\u001b[K     |████████████████████████████████| 956 kB 59.8 MB/s \n",
            "\u001b[?25hCollecting ibm-cos-sdk-s3transfer==2.12.0\n",
            "  Downloading ibm-cos-sdk-s3transfer-2.12.0.tar.gz (135 kB)\n",
            "\u001b[K     |████████████████████████████████| 135 kB 60.1 MB/s \n",
            "\u001b[?25hCollecting jmespath<2.0.0,>=0.7.1\n",
            "  Downloading jmespath-0.10.0-py2.py3-none-any.whl (24 kB)\n",
            "Collecting requests\n",
            "  Downloading requests-2.28.1-py3-none-any.whl (62 kB)\n",
            "\u001b[K     |████████████████████████████████| 62 kB 1.3 MB/s \n",
            "\u001b[?25hRequirement already satisfied: idna<4,>=2.5 in /usr/local/lib/python3.7/dist-packages (from requests->watson-machine-learning-client) (2.10)\n",
            "Requirement already satisfied: charset-normalizer<3,>=2 in /usr/local/lib/python3.7/dist-packages (from requests->watson-machine-learning-client) (2.1.1)\n",
            "Requirement already satisfied: numpy>=1.17.3 in /usr/local/lib/python3.7/dist-packages (from pandas->watson-machine-learning-client) (1.21.6)\n",
            "Requirement already satisfied: pytz>=2017.3 in /usr/local/lib/python3.7/dist-packages (from pandas->watson-machine-learning-client) (2022.6)\n",
            "Building wheels for collected packages: ibm-cos-sdk, ibm-cos-sdk-core, ibm-cos-sdk-s3transfer\n",
            "  Building wheel for ibm-cos-sdk (setup.py) ... \u001b[?25l\u001b[?25hdone\n",
            "  Created wheel for ibm-cos-sdk: filename=ibm_cos_sdk-2.12.0-py3-none-any.whl size=73931 sha256=8eadd9e0ba0c36d40989feb1415409226cdee58cd160359c8b26761192bf714b\n",
            "  Stored in directory: /root/.cache/pip/wheels/ec/94/29/2b57327cf00664b6614304f7958abd29d77ea0e5bbece2ea57\n",
            "  Building wheel for ibm-cos-sdk-core (setup.py) ... \u001b[?25l\u001b[?25hdone\n",
            "  Created wheel for ibm-cos-sdk-core: filename=ibm_cos_sdk_core-2.12.0-py3-none-any.whl size=562962 sha256=bf2b8eb10785ecc3fa94a37387eac8149b67d7f15fba104575a41067c19536c2\n",
            "  Stored in directory: /root/.cache/pip/wheels/64/56/fb/5cd6f4f40406c828a5289b95b2752a4d142a9afb359244ed8d\n",
            "  Building wheel for ibm-cos-sdk-s3transfer (setup.py) ... \u001b[?25l\u001b[?25hdone\n",
            "  Created wheel for ibm-cos-sdk-s3transfer: filename=ibm_cos_sdk_s3transfer-2.12.0-py3-none-any.whl size=89778 sha256=213c36070a398168adc1d4409a3b27c5dd2e7896e42468072ebf0d22f73bb53c\n",
            "  Stored in directory: /root/.cache/pip/wheels/57/79/6a/ffe3370ed7ebc00604f9f76766e1e0348dcdcad2b2e32df9e1\n",
            "Successfully built ibm-cos-sdk ibm-cos-sdk-core ibm-cos-sdk-s3transfer\n",
            "Installing collected packages: urllib3, requests, jmespath, ibm-cos-sdk-core, botocore, s3transfer, ibm-cos-sdk-s3transfer, lomond, ibm-cos-sdk, boto3, watson-machine-learning-client\n",
            "  Attempting uninstall: urllib3\n",
            "    Found existing installation: urllib3 1.24.3\n",
            "    Uninstalling urllib3-1.24.3:\n",
            "      Successfully uninstalled urllib3-1.24.3\n",
            "  Attempting uninstall: requests\n",
            "    Found existing installation: requests 2.23.0\n",
            "    Uninstalling requests-2.23.0:\n",
            "      Successfully uninstalled requests-2.23.0\n",
            "Successfully installed boto3-1.26.8 botocore-1.29.8 ibm-cos-sdk-2.12.0 ibm-cos-sdk-core-2.12.0 ibm-cos-sdk-s3transfer-2.12.0 jmespath-0.10.0 lomond-0.3.3 requests-2.28.1 s3transfer-0.6.0 urllib3-1.26.12 watson-machine-learning-client-1.0.391\n"
          ]
        },
        {
          "output_type": "display_data",
          "data": {
            "application/vnd.colab-display-data+json": {
              "pip_warning": {
                "packages": [
                  "requests",
                  "urllib3"
                ]
              }
            }
          },
          "metadata": {}
        }
      ]
    },
    {
      "cell_type": "code",
      "source": [
        "!pip install ibm_watson_machine_learning"
      ],
      "metadata": {
        "colab": {
          "base_uri": "https://localhost:8080/"
        },
        "id": "NTI2xO_9hSqt",
        "outputId": "c2e29cec-a4c6-4303-cf2e-592b89cae5e3"
      },
      "execution_count": null,
      "outputs": [
        {
          "output_type": "stream",
          "name": "stdout",
          "text": [
            "Looking in indexes: https://pypi.org/simple, https://us-python.pkg.dev/colab-wheels/public/simple/\n",
            "Collecting ibm_watson_machine_learning\n",
            "  Downloading ibm_watson_machine_learning-1.0.257-py3-none-any.whl (1.8 MB)\n",
            "\u001b[K     |████████████████████████████████| 1.8 MB 4.2 MB/s \n",
            "\u001b[?25hRequirement already satisfied: importlib-metadata in /usr/local/lib/python3.7/dist-packages (from ibm_watson_machine_learning) (4.13.0)\n",
            "Requirement already satisfied: requests in /usr/local/lib/python3.7/dist-packages (from ibm_watson_machine_learning) (2.28.1)\n",
            "Requirement already satisfied: urllib3 in /usr/local/lib/python3.7/dist-packages (from ibm_watson_machine_learning) (1.26.12)\n",
            "Requirement already satisfied: pandas<1.5.0,>=0.24.2 in /usr/local/lib/python3.7/dist-packages (from ibm_watson_machine_learning) (1.3.5)\n",
            "Requirement already satisfied: packaging in /usr/local/lib/python3.7/dist-packages (from ibm_watson_machine_learning) (21.3)\n",
            "Requirement already satisfied: tabulate in /usr/local/lib/python3.7/dist-packages (from ibm_watson_machine_learning) (0.8.10)\n",
            "Requirement already satisfied: certifi in /usr/local/lib/python3.7/dist-packages (from ibm_watson_machine_learning) (2022.9.24)\n",
            "Collecting ibm-cos-sdk==2.7.*\n",
            "  Downloading ibm-cos-sdk-2.7.0.tar.gz (51 kB)\n",
            "\u001b[K     |████████████████████████████████| 51 kB 774 kB/s \n",
            "\u001b[?25hRequirement already satisfied: lomond in /usr/local/lib/python3.7/dist-packages (from ibm_watson_machine_learning) (0.3.3)\n",
            "Collecting ibm-cos-sdk-core==2.7.0\n",
            "  Downloading ibm-cos-sdk-core-2.7.0.tar.gz (824 kB)\n",
            "\u001b[K     |████████████████████████████████| 824 kB 45.3 MB/s \n",
            "\u001b[?25hCollecting ibm-cos-sdk-s3transfer==2.7.0\n",
            "  Downloading ibm-cos-sdk-s3transfer-2.7.0.tar.gz (133 kB)\n",
            "\u001b[K     |████████████████████████████████| 133 kB 44.1 MB/s \n",
            "\u001b[?25hRequirement already satisfied: jmespath<1.0.0,>=0.7.1 in /usr/local/lib/python3.7/dist-packages (from ibm-cos-sdk==2.7.*->ibm_watson_machine_learning) (0.10.0)\n",
            "Collecting docutils<0.16,>=0.10\n",
            "  Downloading docutils-0.15.2-py3-none-any.whl (547 kB)\n",
            "\u001b[K     |████████████████████████████████| 547 kB 43.0 MB/s \n",
            "\u001b[?25hRequirement already satisfied: python-dateutil<3.0.0,>=2.1 in /usr/local/lib/python3.7/dist-packages (from ibm-cos-sdk-core==2.7.0->ibm-cos-sdk==2.7.*->ibm_watson_machine_learning) (2.8.2)\n",
            "Requirement already satisfied: pytz>=2017.3 in /usr/local/lib/python3.7/dist-packages (from pandas<1.5.0,>=0.24.2->ibm_watson_machine_learning) (2022.6)\n",
            "Requirement already satisfied: numpy>=1.17.3 in /usr/local/lib/python3.7/dist-packages (from pandas<1.5.0,>=0.24.2->ibm_watson_machine_learning) (1.21.6)\n",
            "Requirement already satisfied: six>=1.5 in /usr/local/lib/python3.7/dist-packages (from python-dateutil<3.0.0,>=2.1->ibm-cos-sdk-core==2.7.0->ibm-cos-sdk==2.7.*->ibm_watson_machine_learning) (1.15.0)\n",
            "Requirement already satisfied: charset-normalizer<3,>=2 in /usr/local/lib/python3.7/dist-packages (from requests->ibm_watson_machine_learning) (2.1.1)\n",
            "Requirement already satisfied: idna<4,>=2.5 in /usr/local/lib/python3.7/dist-packages (from requests->ibm_watson_machine_learning) (2.10)\n",
            "Requirement already satisfied: typing-extensions>=3.6.4 in /usr/local/lib/python3.7/dist-packages (from importlib-metadata->ibm_watson_machine_learning) (4.1.1)\n",
            "Requirement already satisfied: zipp>=0.5 in /usr/local/lib/python3.7/dist-packages (from importlib-metadata->ibm_watson_machine_learning) (3.10.0)\n",
            "Requirement already satisfied: pyparsing!=3.0.5,>=2.0.2 in /usr/local/lib/python3.7/dist-packages (from packaging->ibm_watson_machine_learning) (3.0.9)\n",
            "Building wheels for collected packages: ibm-cos-sdk, ibm-cos-sdk-core, ibm-cos-sdk-s3transfer\n",
            "  Building wheel for ibm-cos-sdk (setup.py) ... \u001b[?25l\u001b[?25hdone\n",
            "  Created wheel for ibm-cos-sdk: filename=ibm_cos_sdk-2.7.0-py2.py3-none-any.whl size=72563 sha256=97dbe1d952647bccb10f3fae36116a4aea57d4519f510a1506292cf3839424a9\n",
            "  Stored in directory: /root/.cache/pip/wheels/47/22/bf/e1154ff0f5de93cc477acd0ca69abfbb8b799c5b28a66b44c2\n",
            "  Building wheel for ibm-cos-sdk-core (setup.py) ... \u001b[?25l\u001b[?25hdone\n",
            "  Created wheel for ibm-cos-sdk-core: filename=ibm_cos_sdk_core-2.7.0-py2.py3-none-any.whl size=501013 sha256=ef5e67ae4bc4d33b95fd3f388759573d4b45d42bf64dfead8e3045175274540d\n",
            "  Stored in directory: /root/.cache/pip/wheels/6c/a2/e4/c16d02f809a3ea998e17cfd02c13369281f3d232aaf5902c19\n",
            "  Building wheel for ibm-cos-sdk-s3transfer (setup.py) ... \u001b[?25l\u001b[?25hdone\n",
            "  Created wheel for ibm-cos-sdk-s3transfer: filename=ibm_cos_sdk_s3transfer-2.7.0-py2.py3-none-any.whl size=88622 sha256=969ec44b5d219e41dabef47f274e7e457f8a1d7f2bd7fc86a0695c5fd3b2a84f\n",
            "  Stored in directory: /root/.cache/pip/wheels/5f/b7/14/fbe02bc1ef1af890650c7e51743d1c83890852e598d164b9da\n",
            "Successfully built ibm-cos-sdk ibm-cos-sdk-core ibm-cos-sdk-s3transfer\n",
            "Installing collected packages: docutils, ibm-cos-sdk-core, ibm-cos-sdk-s3transfer, ibm-cos-sdk, ibm-watson-machine-learning\n",
            "  Attempting uninstall: docutils\n",
            "    Found existing installation: docutils 0.17.1\n",
            "    Uninstalling docutils-0.17.1:\n",
            "      Successfully uninstalled docutils-0.17.1\n",
            "  Attempting uninstall: ibm-cos-sdk-core\n",
            "    Found existing installation: ibm-cos-sdk-core 2.12.0\n",
            "    Uninstalling ibm-cos-sdk-core-2.12.0:\n",
            "      Successfully uninstalled ibm-cos-sdk-core-2.12.0\n",
            "  Attempting uninstall: ibm-cos-sdk-s3transfer\n",
            "    Found existing installation: ibm-cos-sdk-s3transfer 2.12.0\n",
            "    Uninstalling ibm-cos-sdk-s3transfer-2.12.0:\n",
            "      Successfully uninstalled ibm-cos-sdk-s3transfer-2.12.0\n",
            "  Attempting uninstall: ibm-cos-sdk\n",
            "    Found existing installation: ibm-cos-sdk 2.12.0\n",
            "    Uninstalling ibm-cos-sdk-2.12.0:\n",
            "      Successfully uninstalled ibm-cos-sdk-2.12.0\n",
            "Successfully installed docutils-0.15.2 ibm-cos-sdk-2.7.0 ibm-cos-sdk-core-2.7.0 ibm-cos-sdk-s3transfer-2.7.0 ibm-watson-machine-learning-1.0.257\n"
          ]
        }
      ]
    },
    {
      "metadata": {
        "colab": {
          "base_uri": "https://localhost:8080/"
        },
        "id": "rckeB9y7bI2S",
        "outputId": "87f9ca63-36bc-4801-ce9b-6bfc9ce14b32"
      },
      "cell_type": "code",
      "source": [
        "from ibm_watson_machine_learning import APIClient\n",
        "wml_credentials = {\n",
        "    \"url\" : \"https://us-south.ml.cloud.ibm.com\",\n",
        "    \"apikey\" : \"GaZ6Tdi08xTyvlCrvteCvYtoS5ctz3Klmvw4If_SHTC6\"\n",
        "}\n",
        "client = APIClient(wml_credentials)"
      ],
      "execution_count": null,
      "outputs": [
        {
          "output_type": "stream",
          "name": "stdout",
          "text": [
            "Python 3.7 and 3.8 frameworks are deprecated and will be removed in a future release. Use Python 3.9 framework instead.\n"
          ]
        }
      ]
    },
    {
      "metadata": {
        "id": "Z6VR-vBRbI2T"
      },
      "cell_type": "code",
      "source": [
        "def guid_from_space_name(client,space_name):\n",
        "    space = client.spaces.get_details()\n",
        "    return(next(item for item in space['resources'] if item['entity']['name'] == space_name)['metadata']['id'])"
      ],
      "execution_count": null,
      "outputs": []
    },
    {
      "metadata": {
        "colab": {
          "base_uri": "https://localhost:8080/"
        },
        "id": "5LwQBzODbI2T",
        "outputId": "cfb62150-546f-4699-d4e9-03f350fb5cc0"
      },
      "cell_type": "code",
      "source": [
        "space_uid = guid_from_space_name(client,'Image_CNN_Model')\n",
        "print(\"Space UID = \" + space_uid)"
      ],
      "execution_count": null,
      "outputs": [
        {
          "output_type": "stream",
          "name": "stdout",
          "text": [
            "Space UID = 6c8af663-7586-4417-81b3-96cbac7cda45\n"
          ]
        }
      ]
    },
    {
      "metadata": {
        "colab": {
          "base_uri": "https://localhost:8080/",
          "height": 36
        },
        "id": "oGjVNO92bI2U",
        "outputId": "2ebf5fe0-de5e-40ac-8b50-ad26fa5019c9"
      },
      "cell_type": "code",
      "source": [
        "client.set.default_space(space_uid)"
      ],
      "execution_count": null,
      "outputs": [
        {
          "output_type": "execute_result",
          "data": {
            "text/plain": [
              "'SUCCESS'"
            ],
            "application/vnd.google.colaboratory.intrinsic+json": {
              "type": "string"
            }
          },
          "metadata": {},
          "execution_count": 24
        }
      ]
    },
    {
      "metadata": {
        "scrolled": true,
        "colab": {
          "base_uri": "https://localhost:8080/"
        },
        "id": "vNndhe1qbI2U",
        "outputId": "4d05e61e-3305-48db-f153-ba5d7e53f78a"
      },
      "cell_type": "code",
      "source": [
        "client.software_specifications.list()"
      ],
      "execution_count": null,
      "outputs": [
        {
          "output_type": "stream",
          "name": "stdout",
          "text": [
            "-----------------------------  ------------------------------------  ----\n",
            "NAME                           ASSET_ID                              TYPE\n",
            "default_py3.6                  0062b8c9-8b7d-44a0-a9b9-46c416adcbd9  base\n",
            "kernel-spark3.2-scala2.12      020d69ce-7ac1-5e68-ac1a-31189867356a  base\n",
            "pytorch-onnx_1.3-py3.7-edt     069ea134-3346-5748-b513-49120e15d288  base\n",
            "scikit-learn_0.20-py3.6        09c5a1d0-9c1e-4473-a344-eb7b665ff687  base\n",
            "spark-mllib_3.0-scala_2.12     09f4cff0-90a7-5899-b9ed-1ef348aebdee  base\n",
            "pytorch-onnx_rt22.1-py3.9      0b848dd4-e681-5599-be41-b5f6fccc6471  base\n",
            "ai-function_0.1-py3.6          0cdb0f1e-5376-4f4d-92dd-da3b69aa9bda  base\n",
            "shiny-r3.6                     0e6e79df-875e-4f24-8ae9-62dcc2148306  base\n",
            "tensorflow_2.4-py3.7-horovod   1092590a-307d-563d-9b62-4eb7d64b3f22  base\n",
            "pytorch_1.1-py3.6              10ac12d6-6b30-4ccd-8392-3e922c096a92  base\n",
            "tensorflow_1.15-py3.6-ddl      111e41b3-de2d-5422-a4d6-bf776828c4b7  base\n",
            "autoai-kb_rt22.2-py3.10        125b6d9a-5b1f-5e8d-972a-b251688ccf40  base\n",
            "runtime-22.1-py3.9             12b83a17-24d8-5082-900f-0ab31fbfd3cb  base\n",
            "scikit-learn_0.22-py3.6        154010fa-5b3b-4ac1-82af-4d5ee5abbc85  base\n",
            "default_r3.6                   1b70aec3-ab34-4b87-8aa0-a4a3c8296a36  base\n",
            "pytorch-onnx_1.3-py3.6         1bc6029a-cc97-56da-b8e0-39c3880dbbe7  base\n",
            "kernel-spark3.3-r3.6           1c9e5454-f216-59dd-a20e-474a5cdf5988  base\n",
            "pytorch-onnx_rt22.1-py3.9-edt  1d362186-7ad5-5b59-8b6c-9d0880bde37f  base\n",
            "tensorflow_2.1-py3.6           1eb25b84-d6ed-5dde-b6a5-3fbdf1665666  base\n",
            "spark-mllib_3.2                20047f72-0a98-58c7-9ff5-a77b012eb8f5  base\n",
            "tensorflow_2.4-py3.8-horovod   217c16f6-178f-56bf-824a-b19f20564c49  base\n",
            "runtime-22.1-py3.9-cuda        26215f05-08c3-5a41-a1b0-da66306ce658  base\n",
            "do_py3.8                       295addb5-9ef9-547e-9bf4-92ae3563e720  base\n",
            "autoai-ts_3.8-py3.8            2aa0c932-798f-5ae9-abd6-15e0c2402fb5  base\n",
            "tensorflow_1.15-py3.6          2b73a275-7cbf-420b-a912-eae7f436e0bc  base\n",
            "kernel-spark3.3-py3.9          2b7961e2-e3b1-5a8c-a491-482c8368839a  base\n",
            "pytorch_1.2-py3.6              2c8ef57d-2687-4b7d-acce-01f94976dac1  base\n",
            "spark-mllib_2.3                2e51f700-bca0-4b0d-88dc-5c6791338875  base\n",
            "pytorch-onnx_1.1-py3.6-edt     32983cea-3f32-4400-8965-dde874a8d67e  base\n",
            "spark-mllib_3.0-py37           36507ebe-8770-55ba-ab2a-eafe787600e9  base\n",
            "spark-mllib_2.4                390d21f8-e58b-4fac-9c55-d7ceda621326  base\n",
            "autoai-ts_rt22.2-py3.10        396b2e83-0953-5b86-9a55-7ce1628a406f  base\n",
            "xgboost_0.82-py3.6             39e31acd-5f30-41dc-ae44-60233c80306e  base\n",
            "pytorch-onnx_1.2-py3.6-edt     40589d0e-7019-4e28-8daa-fb03b6f4fe12  base\n",
            "pytorch-onnx_rt22.2-py3.10     40e73f55-783a-5535-b3fa-0c8b94291431  base\n",
            "default_r36py38                41c247d3-45f8-5a71-b065-8580229facf0  base\n",
            "autoai-ts_rt22.1-py3.9         4269d26e-07ba-5d40-8f66-2d495b0c71f7  base\n",
            "autoai-obm_3.0                 42b92e18-d9ab-567f-988a-4240ba1ed5f7  base\n",
            "pmml-3.0_4.3                   493bcb95-16f1-5bc5-bee8-81b8af80e9c7  base\n",
            "spark-mllib_2.4-r_3.6          49403dff-92e9-4c87-a3d7-a42d0021c095  base\n",
            "xgboost_0.90-py3.6             4ff8d6c2-1343-4c18-85e1-689c965304d3  base\n",
            "pytorch-onnx_1.1-py3.6         50f95b2a-bc16-43bb-bc94-b0bed208c60b  base\n",
            "autoai-ts_3.9-py3.8            52c57136-80fa-572e-8728-a5e7cbb42cde  base\n",
            "spark-mllib_2.4-scala_2.11     55a70f99-7320-4be5-9fb9-9edb5a443af5  base\n",
            "spark-mllib_3.0                5c1b0ca2-4977-5c2e-9439-ffd44ea8ffe9  base\n",
            "autoai-obm_2.0                 5c2e37fa-80b8-5e77-840f-d912469614ee  base\n",
            "spss-modeler_18.1              5c3cad7e-507f-4b2a-a9a3-ab53a21dee8b  base\n",
            "cuda-py3.8                     5d3232bf-c86b-5df4-a2cd-7bb870a1cd4e  base\n",
            "autoai-kb_3.1-py3.7            632d4b22-10aa-5180-88f0-f52dfb6444d7  base\n",
            "pytorch-onnx_1.7-py3.8         634d3cdc-b562-5bf9-a2d4-ea90a478456b  base\n",
            "-----------------------------  ------------------------------------  ----\n",
            "Note: Only first 50 records were displayed. To display more use 'limit' parameter.\n"
          ]
        }
      ]
    },
    {
      "metadata": {
        "colab": {
          "base_uri": "https://localhost:8080/",
          "height": 36
        },
        "id": "NoHG-P2vbI2U",
        "outputId": "fc28ea2a-a608-4823-cae0-0029ea5d87b2"
      },
      "cell_type": "code",
      "source": [
        "software_spec_uid = client.software_specifications.get_uid_by_name(\"runtime-22.1-py3.9\")\n",
        "software_spec_uid"
      ],
      "execution_count": null,
      "outputs": [
        {
          "output_type": "execute_result",
          "data": {
            "text/plain": [
              "'12b83a17-24d8-5082-900f-0ab31fbfd3cb'"
            ],
            "application/vnd.google.colaboratory.intrinsic+json": {
              "type": "string"
            }
          },
          "metadata": {},
          "execution_count": 26
        }
      ]
    },
    {
      "metadata": {
        "colab": {
          "base_uri": "https://localhost:8080/"
        },
        "id": "iGI9ybgtbI2V",
        "outputId": "94b72d78-7a32-48b2-fc2a-7e5bdc593ed4"
      },
      "cell_type": "code",
      "source": [
        "model_details = client.repository.store_model(model = 'image-classification-model.tar.gz', meta_props = {\n",
        "    client.repository.ModelMetaNames.NAME:\"Image_Classifier\",\n",
        "    client.repository.ModelMetaNames.TYPE:\"tensorflow_2.7\",\n",
        "    client.repository.ModelMetaNames.SOFTWARE_SPEC_UID:software_spec_uid}\n",
        "                                             )\n",
        "model_id = client.repository.get_model_uid(model_details)"
      ],
      "execution_count": null,
      "outputs": [
        {
          "output_type": "stream",
          "name": "stdout",
          "text": [
            "This method is deprecated, please use get_model_id()\n"
          ]
        },
        {
          "output_type": "stream",
          "name": "stderr",
          "text": [
            "/usr/local/lib/python3.7/dist-packages/ibm_watson_machine_learning/repository.py:1453: UserWarning: This method is deprecated, please use get_model_id()\n",
            "  warn(\"This method is deprecated, please use get_model_id()\")\n"
          ]
        }
      ]
    },
    {
      "metadata": {
        "id": "dejQ7v4QbI2V"
      },
      "cell_type": "code",
      "source": [
        "model_id = \"3332723e-cd33-4078-8857-11ed58d260fc\""
      ],
      "execution_count": null,
      "outputs": []
    },
    {
      "metadata": {
        "colab": {
          "base_uri": "https://localhost:8080/",
          "height": 53
        },
        "id": "jcSq6R4VbI2V",
        "outputId": "eef29cf8-f9ed-4ca2-ba86-d6d533b9b673"
      },
      "cell_type": "code",
      "source": [
        "client.repository.download(model_id , 'Image_Classifier_.tgz')"
      ],
      "execution_count": null,
      "outputs": [
        {
          "output_type": "stream",
          "name": "stdout",
          "text": [
            "Successfully saved model content to file: 'Image_Classifier_.tgz'\n"
          ]
        },
        {
          "output_type": "execute_result",
          "data": {
            "text/plain": [
              "'/content/dataset/Image_Classifier_.tgz'"
            ],
            "application/vnd.google.colaboratory.intrinsic+json": {
              "type": "string"
            }
          },
          "metadata": {},
          "execution_count": 29
        }
      ]
    },
    {
      "metadata": {
        "id": "dOx5_QvXbI2W"
      },
      "cell_type": "code",
      "source": [
        "from keras.models import load_model\n",
        "from keras.preprocessing import image"
      ],
      "execution_count": null,
      "outputs": []
    },
    {
      "metadata": {
        "id": "kV9v2LANbI2W"
      },
      "cell_type": "code",
      "source": [
        "model=load_model(\"ND.h5\")"
      ],
      "execution_count": null,
      "outputs": []
    },
    {
      "metadata": {
        "id": "wNOCtKIEbI2W"
      },
      "cell_type": "code",
      "source": [
        "img = tf.keras.preprocessing.image.load_img(r'/content/dataset/test_set/Earthquake/1321.jpg',target_size=(64,64))\n",
        "x = image.img_to_array(img)\n",
        "x=np.expand_dims(x,axis=0)\n",
        "index=['Cyclone','Earthquake','Flood','Wildfire']\n",
        "y=np.argmax(model.predict(x),axis=1)\n",
        "print(index[int(y)])"
      ],
      "execution_count": null,
      "outputs": []
    }
  ],
  "metadata": {
    "colab": {
      "provenance": []
    },
    "kernelspec": {
      "name": "python3",
      "display_name": "Python 3.9",
      "language": "python"
    },
    "language_info": {
      "name": "python",
      "version": "3.9.13",
      "mimetype": "text/x-python",
      "codemirror_mode": {
        "name": "ipython",
        "version": 3
      },
      "pygments_lexer": "ipython3",
      "nbconvert_exporter": "python",
      "file_extension": ".py"
    }
  },
  "nbformat": 4,
  "nbformat_minor": 0
}